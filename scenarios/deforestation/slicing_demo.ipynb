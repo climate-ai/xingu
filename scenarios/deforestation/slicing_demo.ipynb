{
 "cells": [
  {
   "cell_type": "markdown",
   "metadata": {
    "colab_type": "text",
    "id": "wZecevFL1MrY"
   },
   "source": [
    "## How to contribute a slicing function for Xingu\n",
    "\n",
    "Slicing functions define a spatial and temporal area that can be used to evaluate automatically generated models in Xingu"
   ]
  },
  {
   "cell_type": "markdown",
   "metadata": {
    "colab_type": "text",
    "id": "C9luLYMd2taB"
   },
   "source": [
    "### Login GEE API"
   ]
  },
  {
   "cell_type": "code",
   "execution_count": 8,
   "metadata": {
    "colab": {
     "base_uri": "https://localhost:8080/",
     "height": 184
    },
    "colab_type": "code",
    "id": "5gn61qx81C2a",
    "outputId": "c1393cf0-a080-4ab8-f6db-2225d2a8e100"
   },
   "outputs": [
    {
     "name": "stderr",
     "output_type": "stream",
     "text": [
      "/home/jr/anaconda3/envs/tf2/lib/python3.7/site-packages/IPython/utils/traitlets.py:5: UserWarning: IPython.utils.traitlets has moved to a top-level traitlets package.\n",
      "  warn(\"IPython.utils.traitlets has moved to a top-level traitlets package.\")\n"
     ]
    },
    {
     "name": "stdout",
     "output_type": "stream",
     "text": [
      "To authorize access needed by Earth Engine, open the following URL in a web browser and follow the instructions. If the web browser does not start automatically, please manually browse the URL below.\n",
      "\n",
      "    https://accounts.google.com/o/oauth2/auth?client_id=517222506229-vsmmajv00ul0bs7p89v5m89qs8eb9359.apps.googleusercontent.com&scope=https%3A%2F%2Fwww.googleapis.com%2Fauth%2Fearthengine+https%3A%2F%2Fwww.googleapis.com%2Fauth%2Fdevstorage.full_control&redirect_uri=urn%3Aietf%3Awg%3Aoauth%3A2.0%3Aoob&response_type=code\n",
      "\n",
      "The authorization workflow will generate a code, which you should paste in the box below. \n",
      "Enter verification code: 4/wgFfG5vBBNUX3xbiQjGUQJGuYzg2VjUrEZc_ngI9B4zevjCVi-8m1lw\n",
      "\n",
      "Successfully saved authorization token.\n"
     ]
    }
   ],
   "source": [
    "# Import the Earth Engine API and initialize it.\n",
    "import ee\n",
    "# Trigger the authentication flow.\n",
    "ee.Authenticate()\n",
    "# Initialize the library.\n",
    "ee.Initialize()"
   ]
  },
  {
   "cell_type": "markdown",
   "metadata": {
    "colab_type": "text",
    "id": "7V8yzem22-Fk"
   },
   "source": [
    "## Specify base maps"
   ]
  },
  {
   "cell_type": "code",
   "execution_count": 9,
   "metadata": {
    "colab": {},
    "colab_type": "code",
    "id": "6b5A2G8o3Lr-"
   },
   "outputs": [],
   "source": [
    "# Use these bands for prediction.\n",
    "bands = ['B2', 'B3', 'B4', 'B5', 'B6', 'B7']\n",
    "# Use Landsat 8 surface reflectance data.\n",
    "l8sr = ee.ImageCollection('LANDSAT/LC08/C01/T1_SR')\n",
    "ndvi = ee.ImageCollection('LANDSAT/LC08/C01/T1_32DAY_NDVI')\n",
    "hansen = ee.Image(\"UMD/hansen/global_forest_change_2018_v1_6\")\n",
    "#l7sr = ee.ImageCollection('LANDSAT/LC07/C01/T1_SR')\n",
    "#sentinel2 = ee.ImageCollection('COPERNICUS/S2_SR').filter(ee.Filter.lt('CLOUDY_PIXEL_PERCENTAGE', 20))\n",
    "\n",
    "## get nighttime lights\n",
    "nightlight_col = ee.ImageCollection('NOAA/VIIRS/DNB/MONTHLY_V1/VCMCFG')\n",
    "\n",
    "def maskS2clouds(image):\n",
    "  qa = image.select('QA60');\n",
    "  # Bits 10 and 11 are clouds and cirrus, respectively.\n",
    "  cloudBitMask = 1 << 10;\n",
    "  cirrusBitMask = 1 << 11;\n",
    "\n",
    "  # Both flags should be set to zero, indicating clear conditions.\n",
    "  mask = qa.bitwiseAnd(cloudBitMask).eq(0).And(qa.bitwiseAnd(cirrusBitMask).eq(0));\n",
    "\n",
    "  return image.updateMask(mask).divide(10000);\n",
    "                                                 \n",
    "                                                          \n",
    "## Cloud masking function.\n",
    "def maskL8sr(image):\n",
    "  cloudShadowBitMask = ee.Number(2).pow(3).int()\n",
    "  cloudsBitMask = ee.Number(2).pow(5).int()\n",
    "  qa = image.select('pixel_qa')\n",
    "  mask = qa.bitwiseAnd(cloudShadowBitMask).eq(0).And(\n",
    "    qa.bitwiseAnd(cloudsBitMask).eq(0))\n",
    "  return image.updateMask(mask).select(bands).divide(10000)\n",
    "\n"
   ]
  },
  {
   "cell_type": "code",
   "execution_count": null,
   "metadata": {},
   "outputs": [],
   "source": []
  },
  {
   "cell_type": "markdown",
   "metadata": {},
   "source": [
    "## Get median composites for years 2013-2019"
   ]
  },
  {
   "cell_type": "code",
   "execution_count": 10,
   "metadata": {},
   "outputs": [
    {
     "name": "stdout",
     "output_type": "stream",
     "text": [
      "2013\n",
      "2014\n",
      "2015\n",
      "2016\n",
      "2017\n",
      "2018\n"
     ]
    }
   ],
   "source": [
    "images_per_year = dict()\n",
    "for year in range(2013, 2019):\n",
    "    print(year)\n",
    "    images_per_year[year] = {'ls8sr':  l8sr.filterDate('{}-01-01'.format(year), '{}-12-31'.format(year)).map(maskL8sr).median()}\n",
    "    images_per_year[year]['nightlight'] = nightlight_col.filterDate('{}-01-01'.format(year), '{}-12-31'.format(year)).median()\n",
    "    images_per_year[year]['ndvi'] = ndvi.filterDate('{}-01-01'.format(year), '{}-12-31'.format(year)).median()\n",
    "    lossYear = hansen.select(['lossyear'])\n",
    "    images_per_year[year]['hansen'] = lossYear.gt(year - 2000)\n"
   ]
  },
  {
   "cell_type": "markdown",
   "metadata": {
    "colab_type": "text",
    "id": "DY2qIpku7m_l"
   },
   "source": [
    "## Get all available scenario regions"
   ]
  },
  {
   "cell_type": "code",
   "execution_count": 11,
   "metadata": {
    "colab": {
     "base_uri": "https://localhost:8080/",
     "height": 119
    },
    "colab_type": "code",
    "id": "wkVbAtaVSevN",
    "outputId": "d2c25ed7-3083-4734-862c-1c5772cd2415"
   },
   "outputs": [
    {
     "name": "stdout",
     "output_type": "stream",
     "text": [
      "found 16 scenario regions\n"
     ]
    }
   ],
   "source": [
    "import os\n",
    "import geojson\n",
    "base_dir = os.getcwd()\n",
    "all_geojson_paths = [os.path.join(base_dir, x) for x in os.listdir(base_dir) if x.endswith('.geojson')]\n",
    "all_geojsons = []\n",
    "for geojson_path in all_geojson_paths:\n",
    "    with open(geojson_path) as f:\n",
    "        gj = geojson.load(f)\n",
    "        all_geojsons.append(gj)\n",
    "print('found {} scenario regions'.format(len(all_geojsons)))\n",
    "#all_geojsons = sorted(all_geojsons)\n",
    "import random\n",
    "random.seed(123)\n",
    "random.shuffle(all_geojsons)\n",
    "train_range = round(0.7 * len(all_geojsons))\n",
    "val_range = round(0.8 * len(all_geojsons))\n",
    "train_regions = all_geojsons[:train_range]\n",
    "val_regions = all_geojsons[train_range:val_range]\n",
    "test_regions = all_geojsons[val_range:]\n"
   ]
  },
  {
   "cell_type": "code",
   "execution_count": 12,
   "metadata": {},
   "outputs": [],
   "source": [
    "#get sample train region\n",
    "#train_region = train_regions[0]"
   ]
  },
  {
   "cell_type": "code",
   "execution_count": 13,
   "metadata": {
    "colab": {
     "base_uri": "https://localhost:8080/",
     "height": 375
    },
    "colab_type": "code",
    "id": "o-Mz2Kfl7uaf",
    "outputId": "7116c3c8-373a-485f-9c08-e5ae9ced2c8a"
   },
   "outputs": [],
   "source": [
    "def get_coordinates_for_region(region):\n",
    "    region = train_region[\"coordinates\"][0]\n",
    "    region_inv = [[x[1],x[0]] for x in region]\n",
    "    x_center = sum(x[0] for x in region_inv) / len(region_inv)\n",
    "    y_center = sum(x[1] for x in region_inv) / len(region_inv)\n",
    "    edges = region_inv\n",
    "    center_coords = [x_center, y_center]\n",
    "    return edges, center_coords\n",
    "\n"
   ]
  },
  {
   "cell_type": "markdown",
   "metadata": {
    "colab_type": "text",
    "id": "E7lrS3gZ6dCm"
   },
   "source": [
    "## This is how we visualize it in colab"
   ]
  },
  {
   "cell_type": "code",
   "execution_count": 14,
   "metadata": {},
   "outputs": [],
   "source": [
    "def get_scaled_img(image, target_geometry):\n",
    "    minMax = image.reduceRegion(reducer= ee.Reducer.minMax(), geometry= target_geometry,scale= 30, maxPixels= 10e9,   # tileScale: 16\n",
    "    );\n",
    "    def scale(name):\n",
    "        name = ee.String(name);\n",
    "        #print('band name: {}'.format(name))\n",
    "        band = image.select(name);\n",
    "        \n",
    "        return band.unitScale(ee.Number(minMax.get(name.cat('_min'))), ee.Number(minMax.get(name.cat('_max'))))\n",
    "                    # eventually multiply by 100 to get range 0-100\n",
    "                    #.multiply(100); \n",
    "    scaled_bands = image.bandNames().map(scale)\n",
    "    unitScale = ee.ImageCollection.fromImages(scaled_bands)\n",
    "    unitScale_bands = unitScale.toBands().rename(image.bandNames());\n",
    "    \n",
    "#    meanDict = unitScale_bands.reduceRegion(reducer=  ee.Reducer.mean(), geometry =target_geometry, scale=30 )\n",
    "#    minMaxDict = unitScale_bands.reduceRegion(reducer=  ee.Reducer.minMax(), geometry =target_geometry, scale=30 )\n",
    "#    print(meanDict.getInfo())\n",
    "#    print(minMaxDict.getInfo())\n",
    "    \n",
    "    return unitScale_bands\n",
    "\n",
    "def getMinMax(image, target_geometry):\n",
    "    minMaxDict = image.reduceRegion(reducer=  ee.Reducer.minMax(), geometry=target_geometry, scale=30 )\n",
    "    print(minMaxDict.getInfo())\n",
    "\n",
    "def maskGeometry(image, geometry):\n",
    "   mask =  ee.Image.constant(1).clip(geometry).mask()\n",
    "   return image.updateMask(mask)"
   ]
  },
  {
   "cell_type": "code",
   "execution_count": 15,
   "metadata": {},
   "outputs": [],
   "source": [
    "\n",
    "import folium\n",
    "\n",
    "def display_img(image, center_location, value_name, mask_region):\n",
    "    mapIdDict = image.getMapId({'bands': [value_name], 'min': 0.0, 'max': 1})\n",
    "    folium_map = folium.Map(location=center_location)\n",
    "    folium.TileLayer(\n",
    "        tiles=mapIdDict['tile_fetcher'].url_format,\n",
    "        attr='Map Data &copy; <a href=\"https://earthengine.google.com/\">Google Earth Engine</a>',\n",
    "        overlay=True,\n",
    "        name='median composite',\n",
    "      ).add_to(folium_map)\n",
    "    folium_map.add_child(folium.LayerControl())\n",
    "\n",
    "    line_color='red'\n",
    "    fill_color='red'\n",
    "    weight=2\n",
    "    text='Selected Region'\n",
    "    \n",
    "    folium_map.add_child(folium.vector_layers.Polygon(locations=mask_region, color=line_color, fill_color=fill_color,\n",
    "                                                  weight=weight, popup=(folium.Popup(text))))\n",
    "\n",
    "    return folium_map"
   ]
  },
  {
   "cell_type": "markdown",
   "metadata": {
    "colab_type": "text",
    "id": "sv7YibOt3H0b"
   },
   "source": [
    "### We use folium to visualize the map"
   ]
  },
  {
   "cell_type": "code",
   "execution_count": 16,
   "metadata": {
    "colab": {
     "base_uri": "https://localhost:8080/",
     "height": 1000
    },
    "colab_type": "code",
    "id": "HJ87-5r86gNl",
    "outputId": "44519284-08ff-4517-b4d2-372d8944e4a9"
   },
   "outputs": [],
   "source": [
    "def compute_and_display_yeardiff(images_per_year, year, img_type, value_name, region):\n",
    "    image = images_per_year[year][img_type]\n",
    "    img_cur = maskGeometry(images_per_year[year][img_type], region)\n",
    "    img_old = maskGeometry(images_per_year[year-1][img_type], region)\n",
    "    imgs_diff = img_cur.select(value_name).subtract(img_old.select(value_name))\n",
    "    #normalized_diff\n",
    "    #imgs_normdiff = imgs_diff.divide(img_cur.select(value_name).add(img_old.select(value_name)))\n",
    "\n",
    "    #Define a kernel.\n",
    "    #kernel = ee.Kernel.circle(radius= 15);\n",
    "    #dilated = maskGeometry(imgs_normdiff.focal_max(kernel= kernel, iterations= 2), region)\n",
    "    #roi_image = maskGeometry(image, region)\n",
    "    scaled_img = get_scaled_img(imgs_diff, region)\n",
    "    edges, center_coords = get_coordinates_for_region(region)\n",
    "    \n",
    "    folium_map = display_img(scaled_img, center_location=center_coords, value_name=value_name, mask_region=edges)\n",
    "    return folium_map, scaled_img\n",
    "\n",
    "def compute_and_display_year(images_per_year, year, img_type, value_name, region):\n",
    "    image = images_per_year[year][img_type]\n",
    "    img_cur = maskGeometry(images_per_year[year][img_type], region)\n",
    "    scaled_img = get_scaled_img(img_cur, region)\n",
    "    edges, center_coords = get_coordinates_for_region(region)\n",
    "    folium_map = display_img(scaled_img, center_location=center_coords, value_name=value_name, mask_region=edges)\n",
    "    return folium_map, scaled_img\n"
   ]
  },
  {
   "cell_type": "markdown",
   "metadata": {},
   "source": [
    "## Display year for demo  "
   ]
  },
  {
   "cell_type": "code",
   "execution_count": 17,
   "metadata": {},
   "outputs": [
    {
     "data": {
      "text/html": [
       "<div style=\"width:100%;\"><div style=\"position:relative;width:100%;height:0;padding-bottom:60%;\"><iframe src=\"data:text/html;charset=utf-8;base64,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\" style=\"position:absolute;width:100%;height:100%;left:0;top:0;border:none !important;\" allowfullscreen webkitallowfullscreen mozallowfullscreen></iframe></div></div>"
      ],
      "text/plain": [
       "<folium.folium.Map at 0x7f5557984090>"
      ]
     },
     "execution_count": 17,
     "metadata": {},
     "output_type": "execute_result"
    }
   ],
   "source": [
    "year = 2016\n",
    "train_region = train_regions[0]\n",
    "folium_map, scaled_img = compute_and_display_year(images_per_year, year=year, img_type='hansen', value_name='lossyear', region=train_region)\n",
    "#folium_map, scaled_yeardiff = compute_and_display_yeardiff(images_per_year, year=year, img_type='ndvi', value_name='NDVI', region=train_region)\n",
    "folium_map"
   ]
  },
  {
   "cell_type": "markdown",
   "metadata": {},
   "source": [
    "## Collect \"year difference\" features for NDVI and nightlight"
   ]
  },
  {
   "cell_type": "code",
   "execution_count": 20,
   "metadata": {},
   "outputs": [],
   "source": [
    "\n",
    "datasets = dict()\n",
    "\n",
    "set_types = ['train', 'val', 'eval']\n",
    "set_regions = [train_regions, val_regions, test_regions]\n"
   ]
  },
  {
   "cell_type": "code",
   "execution_count": 32,
   "metadata": {
    "colab": {
     "base_uri": "https://localhost:8080/",
     "height": 1000
    },
    "colab_type": "code",
    "id": "HJ87-5r86gNl",
    "outputId": "44519284-08ff-4517-b4d2-372d8944e4a9"
   },
   "outputs": [
    {
     "name": "stdout",
     "output_type": "stream",
     "text": [
      "collecting features for region 1 out of 11\n",
      "collecting features for region 2 out of 11\n",
      "collecting features for region 3 out of 11\n",
      "collecting features for region 4 out of 11\n",
      "collecting features for region 5 out of 11\n",
      "collecting features for region 6 out of 11\n",
      "collecting features for region 7 out of 11\n",
      "collecting features for region 8 out of 11\n",
      "collecting features for region 9 out of 11\n",
      "collecting features for region 10 out of 11\n",
      "collecting features for region 11 out of 11\n",
      "collecting features for region 1 out of 2\n",
      "collecting features for region 2 out of 2\n",
      "collecting features for region 1 out of 3\n",
      "collecting features for region 2 out of 3\n",
      "collecting features for region 3 out of 3\n"
     ]
    }
   ],
   "source": [
    "#print(folium.__version__)\n",
    "\n",
    "for set_type, regions in zip(set_types, set_regions):\n",
    "    for i, region in enumerate(regions):\n",
    "        print('collecting features for region {} out of {}'.format(i+1, len(regions)))\n",
    "        #print(region)\n",
    "        scaled_features = dict()\n",
    "        gt_labels = dict()\n",
    "        \n",
    "        for year in range(2015, 2018):\n",
    "            if year not in scaled_features:\n",
    "                scaled_features[year] = dict()\n",
    "            for img_type, value_name in zip(['ndvi', 'nightlight'], ['NDVI', 'avg_rad']):\n",
    "                if img_type not in scaled_features[year]:\n",
    "                    scaled_features[year][img_type] = dict()\n",
    "\n",
    "                _, scaled_yeardiff = compute_and_display_yeardiff(images_per_year, year=year, img_type=img_type, value_name=value_name, region=region)\n",
    "                _, scaled_img = compute_and_display_year(images_per_year, year=year, img_type=img_type, value_name=value_name, region=region)\n",
    "                scaled_features[year][img_type] = {'default': scaled_img, 'yeardiff': scaled_yeardiff}\n",
    "            #yeardiff\n",
    "            folium_map, scaled_img = compute_and_display_year(images_per_year, year=year, img_type='hansen', value_name='lossyear', region=region)\n",
    "            gt_labels[year] = scaled_img\n",
    "            if set_type not in datasets:\n",
    "                datasets[set_type] = dict()\n",
    "            datasets[set_type][i] = {'features': scaled_features, 'labels': gt_labels}\n",
    "\n",
    "\n"
   ]
  },
  {
   "cell_type": "markdown",
   "metadata": {},
   "source": [
    "## Merge features and labels for all regions of their respective train/val/test sets\n"
   ]
  },
  {
   "cell_type": "code",
   "execution_count": 21,
   "metadata": {},
   "outputs": [
    {
     "ename": "KeyError",
     "evalue": "'train'",
     "output_type": "error",
     "traceback": [
      "\u001b[0;31m---------------------------------------------------------------------------\u001b[0m",
      "\u001b[0;31mKeyError\u001b[0m                                  Traceback (most recent call last)",
      "\u001b[0;32m<ipython-input-21-2049fe99a588>\u001b[0m in \u001b[0;36m<module>\u001b[0;34m()\u001b[0m\n\u001b[1;32m      1\u001b[0m \u001b[0;32mfor\u001b[0m \u001b[0mset_type\u001b[0m\u001b[0;34m,\u001b[0m \u001b[0mregions\u001b[0m \u001b[0;32min\u001b[0m \u001b[0mzip\u001b[0m\u001b[0;34m(\u001b[0m\u001b[0mset_types\u001b[0m\u001b[0;34m,\u001b[0m \u001b[0mset_regions\u001b[0m\u001b[0;34m)\u001b[0m\u001b[0;34m:\u001b[0m\u001b[0;34m\u001b[0m\u001b[0;34m\u001b[0m\u001b[0m\n\u001b[1;32m      2\u001b[0m     \u001b[0mnum_regions\u001b[0m \u001b[0;34m=\u001b[0m \u001b[0mlen\u001b[0m\u001b[0;34m(\u001b[0m\u001b[0mregions\u001b[0m\u001b[0;34m)\u001b[0m\u001b[0;34m\u001b[0m\u001b[0;34m\u001b[0m\u001b[0m\n\u001b[0;32m----> 3\u001b[0;31m     \u001b[0mdatasets\u001b[0m\u001b[0;34m[\u001b[0m\u001b[0mset_type\u001b[0m\u001b[0;34m]\u001b[0m\u001b[0;34m[\u001b[0m\u001b[0;34m'merged'\u001b[0m\u001b[0;34m]\u001b[0m \u001b[0;34m=\u001b[0m \u001b[0;34m{\u001b[0m\u001b[0;34m'features'\u001b[0m\u001b[0;34m:\u001b[0m \u001b[0mdict\u001b[0m\u001b[0;34m(\u001b[0m\u001b[0;34m)\u001b[0m\u001b[0;34m,\u001b[0m \u001b[0;34m'labels'\u001b[0m\u001b[0;34m:\u001b[0m \u001b[0mdict\u001b[0m\u001b[0;34m(\u001b[0m\u001b[0;34m)\u001b[0m\u001b[0;34m}\u001b[0m\u001b[0;34m\u001b[0m\u001b[0;34m\u001b[0m\u001b[0m\n\u001b[0m\u001b[1;32m      4\u001b[0m     \u001b[0;32mfor\u001b[0m \u001b[0myear\u001b[0m \u001b[0;32min\u001b[0m \u001b[0mrange\u001b[0m\u001b[0;34m(\u001b[0m\u001b[0;36m2015\u001b[0m\u001b[0;34m,\u001b[0m \u001b[0;36m2018\u001b[0m\u001b[0;34m)\u001b[0m\u001b[0;34m:\u001b[0m\u001b[0;34m\u001b[0m\u001b[0;34m\u001b[0m\u001b[0m\n\u001b[1;32m      5\u001b[0m         \u001b[0mdatasets\u001b[0m\u001b[0;34m[\u001b[0m\u001b[0mset_type\u001b[0m\u001b[0;34m]\u001b[0m\u001b[0;34m[\u001b[0m\u001b[0;34m'merged'\u001b[0m\u001b[0;34m]\u001b[0m\u001b[0;34m[\u001b[0m\u001b[0;34m'features'\u001b[0m\u001b[0;34m]\u001b[0m\u001b[0;34m[\u001b[0m\u001b[0myear\u001b[0m\u001b[0;34m]\u001b[0m \u001b[0;34m=\u001b[0m \u001b[0mdict\u001b[0m\u001b[0;34m(\u001b[0m\u001b[0;34m)\u001b[0m\u001b[0;34m\u001b[0m\u001b[0;34m\u001b[0m\u001b[0m\n",
      "\u001b[0;31mKeyError\u001b[0m: 'train'"
     ]
    }
   ],
   "source": [
    "for set_type, regions in zip(set_types, set_regions):\n",
    "    num_regions = len(regions)\n",
    "    datasets[set_type]['merged'] = {'features': dict(), 'labels': dict()}\n",
    "    for year in range(2015, 2018):\n",
    "        datasets[set_type]['merged']['features'][year] = dict() \n",
    "        datasets[set_type]['merged']['labels'][year] = dict() \n",
    "        for img_type, value_name in zip(['ndvi', 'nightlight'], ['NDVI', 'avg_rad']):\n",
    "            datasets[set_type]['merged']['features'][year][img_type] = dict() \n",
    "            #for i, region in enumerate(regions):\n",
    "            for feature_type in ['default', 'yeardiff']:\n",
    "                new_band_name = value_name + '_' + feature_type\n",
    "                datasets[set_type]['merged']['features'][year][img_type][feature_type] = ee.ImageCollection([datasets[set_type][i]['features'][year][img_type][feature_type].select([value_name], [new_band_name]) for i in range(num_regions)])\n",
    "                #datasets[set_type]['merged']['features'][year][img_type][feature_type] = ee.ImageCollection([datasets[set_type][i]['features'][year][img_type][feature_type] for i in range(num_regions)])\n",
    "        datasets[set_type]['merged']['labels'][year] = ee.ImageCollection([datasets[set_type][i]['labels'][year].select(['lossyear'],['gt_lossyear']) for i in range(num_regions)])"
   ]
  },
  {
   "cell_type": "markdown",
   "metadata": {
    "colab_type": "text",
    "id": "Xebx9Bm88hVo"
   },
   "source": [
    "## Inspect training and validation polygons"
   ]
  },
  {
   "cell_type": "code",
   "execution_count": 22,
   "metadata": {},
   "outputs": [
    {
     "data": {
      "text/html": [
       "<div style=\"width:100%;\"><div style=\"position:relative;width:100%;height:0;padding-bottom:60%;\"><iframe src=\"data:text/html;charset=utf-8;base64,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\" style=\"position:absolute;width:100%;height:100%;left:0;top:0;border:none !important;\" allowfullscreen webkitallowfullscreen mozallowfullscreen></iframe></div></div>"
      ],
      "text/plain": [
       "<folium.folium.Map at 0x7f55574d9790>"
      ]
     },
     "execution_count": 22,
     "metadata": {},
     "output_type": "execute_result"
    }
   ],
   "source": [
    "trainingPolys = ee.FeatureCollection(train_regions)\n",
    "evalPolys = ee.FeatureCollection(test_regions)\n",
    "valPolys = ee.FeatureCollection(val_regions)\n",
    "\n",
    "polyImage = ee.Image(0).byte().paint(trainingPolys, 1).paint(valPolys, 2).paint(evalPolys, 3)\n",
    "polyImage = polyImage.updateMask(polyImage)\n",
    "\n",
    "mapid = polyImage.getMapId({'min': 1, 'max': 3, 'palette': ['red', 'green', 'blue']})\n",
    "map = folium.Map(zoom_start=5)\n",
    "folium.TileLayer(\n",
    "    tiles=mapid['tile_fetcher'].url_format,\n",
    "    attr='Map Data &copy; <a href=\"https://earthengine.google.com/\">Google Earth Engine</a>',\n",
    "    overlay=True,\n",
    "    name='training polygons',\n",
    "  ).add_to(map)\n",
    "map.add_child(folium.LayerControl())\n",
    "map"
   ]
  },
  {
   "cell_type": "code",
   "execution_count": 57,
   "metadata": {
    "scrolled": true
   },
   "outputs": [
    {
     "data": {
      "text/html": [
       "<div style=\"width:100%;\"><div style=\"position:relative;width:100%;height:0;padding-bottom:60%;\"><iframe src=\"data:text/html;charset=utf-8;base64,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\" style=\"position:absolute;width:100%;height:100%;left:0;top:0;border:none !important;\" allowfullscreen webkitallowfullscreen mozallowfullscreen></iframe></div></div>"
      ],
      "text/plain": [
       "<folium.folium.Map at 0x7ff260368690>"
      ]
     },
     "execution_count": 57,
     "metadata": {},
     "output_type": "execute_result"
    }
   ],
   "source": [
    "import tensorflow as tf\n",
    "\n",
    "##Create a demo feature from the training data\n",
    "#imageStack = ee.Image.cat([\n",
    "#     datasets['train']['merged']['features'][2016]['ndvi']['default'],\n",
    "#     datasets['train']['merged']['features'][2016]['ndvi']['yeardiff'],\n",
    "#     datasets['train']['merged']['features'][2016]['nightlight']['default'],\n",
    "#     datasets['train']['merged']['features'][2016]['nightlight']['yeardiff']\n",
    "#]).float()\n",
    "#combinedFeatures = datasets['train']['merged']['features'][2016]['ndvi']['default'].merge(\n",
    "#     datasets['train']['merged']['features'][2016]['ndvi']['yeardiff'])\n",
    "#     datasets['train']['merged']['features'][2016]['nightlight']['default'],\n",
    "#     datasets['train']['merged']['features'][2016]['nightlight']['yeardiff']\n",
    "#])\n",
    "#def mergeBands (image, previous, bands=['ndvi_default']):\n",
    "#  return ee.Image(previous).addBands(image, [''])\n",
    "\n",
    "\n",
    "#combinedFeatures = dict()\n",
    "#labelMosaic = dict()\n",
    "merged_feature_and_gt = dict()\n",
    "for set_type in set_types:\n",
    "    if set_type not in merged_feature_and_gt:\n",
    "        merged_feature_and_gt[set_type] = dict()\n",
    "    for year in range(2015, 2018):\n",
    "    \n",
    "        labelMosaic = datasets[set_type]['merged']['labels'][2016].mosaic()\n",
    "        combinedFeatures = ee.ImageCollection([\n",
    "             datasets[set_type]['merged']['features'][2016]['ndvi']['default'].mosaic(),\n",
    "             datasets[set_type]['merged']['features'][2016]['ndvi']['yeardiff'].mosaic(),\n",
    "             datasets[set_type]['merged']['features'][2016]['nightlight']['default'].mosaic(),\n",
    "             datasets[set_type]['merged']['features'][2016]['nightlight']['yeardiff'].mosaic()\n",
    "        ])\n",
    "        merged_feature_and_gt[set_type][year] = combinedFeatures.merge(labelMosaic.select(['gt_lossyear'],['class'])).toBands()\n",
    "        old_band_names = merged_feature_and_gt[set_type][year].bandNames().getInfo()\n",
    "        new_band_names = ['ndvi_default', 'ndvi_yeardiff', 'nightlight_default', 'nightlight_yeardiff', 'class']\n",
    "        #rename bands\n",
    "        merged_feature_and_gt[set_type][year] = merged_feature_and_gt[set_type][year].select(old_band_names, new_band_names)\n",
    "#old_band_names = merged_feature_and_gt[2016].bandNames().getInfo()\n",
    "#new_band_names = ['ndvi_default', 'ndvi_yeardiff', 'nightlight_default', 'nightlight_yeardiff', 'class']\n",
    "#band_names =merged_feature_and_gt['train'][2016].bandNames().getInfo() \n",
    "#print('band names: {}'.format(band_names))\n",
    "\n",
    "\n",
    "\n",
    "#mapid = merged_feature_and_gt['train'][2016].getMapId({'bands': ['ndvi_default'], 'min': 0, 'max': 1})\n",
    "mapid = merged_feature_and_gt['val'][2016].getMapId({'bands': ['ndvi_default'], 'min': 0, 'max': 1})\n",
    "map = folium.Map(zoom_start=5)\n",
    "folium.TileLayer(\n",
    "    tiles=mapid['tile_fetcher'].url_format,\n",
    "    attr='Map Data &copy; <a href=\"https://earthengine.google.com/\">Google Earth Engine</a>',\n",
    "    overlay=True,\n",
    "    name='ground truth forest loss',\n",
    "  ).add_to(map)\n",
    "map.add_child(folium.LayerControl())\n",
    "map\n",
    "\n"
   ]
  },
  {
   "cell_type": "code",
   "execution_count": 23,
   "metadata": {},
   "outputs": [
    {
     "ename": "NameError",
     "evalue": "name 'tf' is not defined",
     "output_type": "error",
     "traceback": [
      "\u001b[0;31m---------------------------------------------------------------------------\u001b[0m",
      "\u001b[0;31mNameError\u001b[0m                                 Traceback (most recent call last)",
      "\u001b[0;32m<ipython-input-23-e3d88955032c>\u001b[0m in \u001b[0;36m<module>\u001b[0;34m()\u001b[0m\n\u001b[1;32m      8\u001b[0m \u001b[0mKERNEL_SHAPE\u001b[0m \u001b[0;34m=\u001b[0m \u001b[0;34m[\u001b[0m\u001b[0mKERNEL_SIZE\u001b[0m\u001b[0;34m,\u001b[0m \u001b[0mKERNEL_SIZE\u001b[0m\u001b[0;34m]\u001b[0m\u001b[0;34m\u001b[0m\u001b[0;34m\u001b[0m\u001b[0m\n\u001b[1;32m      9\u001b[0m COLUMNS = [\n\u001b[0;32m---> 10\u001b[0;31m   \u001b[0mtf\u001b[0m\u001b[0;34m.\u001b[0m\u001b[0mio\u001b[0m\u001b[0;34m.\u001b[0m\u001b[0mFixedLenFeature\u001b[0m\u001b[0;34m(\u001b[0m\u001b[0mshape\u001b[0m\u001b[0;34m=\u001b[0m\u001b[0mKERNEL_SHAPE\u001b[0m\u001b[0;34m,\u001b[0m \u001b[0mdtype\u001b[0m\u001b[0;34m=\u001b[0m\u001b[0mtf\u001b[0m\u001b[0;34m.\u001b[0m\u001b[0mfloat32\u001b[0m\u001b[0;34m)\u001b[0m \u001b[0;32mfor\u001b[0m \u001b[0mf\u001b[0m \u001b[0;32min\u001b[0m \u001b[0mFEATURES\u001b[0m\u001b[0;34m\u001b[0m\u001b[0;34m\u001b[0m\u001b[0m\n\u001b[0m\u001b[1;32m     11\u001b[0m ]\n\u001b[1;32m     12\u001b[0m \u001b[0mFEATURES_DICT\u001b[0m \u001b[0;34m=\u001b[0m \u001b[0mdict\u001b[0m\u001b[0;34m(\u001b[0m\u001b[0mzip\u001b[0m\u001b[0;34m(\u001b[0m\u001b[0mFEATURES\u001b[0m\u001b[0;34m,\u001b[0m \u001b[0mCOLUMNS\u001b[0m\u001b[0;34m)\u001b[0m\u001b[0;34m)\u001b[0m\u001b[0;34m\u001b[0m\u001b[0;34m\u001b[0m\u001b[0m\n",
      "\u001b[0;32m<ipython-input-23-e3d88955032c>\u001b[0m in \u001b[0;36m<listcomp>\u001b[0;34m(.0)\u001b[0m\n\u001b[1;32m      8\u001b[0m \u001b[0mKERNEL_SHAPE\u001b[0m \u001b[0;34m=\u001b[0m \u001b[0;34m[\u001b[0m\u001b[0mKERNEL_SIZE\u001b[0m\u001b[0;34m,\u001b[0m \u001b[0mKERNEL_SIZE\u001b[0m\u001b[0;34m]\u001b[0m\u001b[0;34m\u001b[0m\u001b[0;34m\u001b[0m\u001b[0m\n\u001b[1;32m      9\u001b[0m COLUMNS = [\n\u001b[0;32m---> 10\u001b[0;31m   \u001b[0mtf\u001b[0m\u001b[0;34m.\u001b[0m\u001b[0mio\u001b[0m\u001b[0;34m.\u001b[0m\u001b[0mFixedLenFeature\u001b[0m\u001b[0;34m(\u001b[0m\u001b[0mshape\u001b[0m\u001b[0;34m=\u001b[0m\u001b[0mKERNEL_SHAPE\u001b[0m\u001b[0;34m,\u001b[0m \u001b[0mdtype\u001b[0m\u001b[0;34m=\u001b[0m\u001b[0mtf\u001b[0m\u001b[0;34m.\u001b[0m\u001b[0mfloat32\u001b[0m\u001b[0;34m)\u001b[0m \u001b[0;32mfor\u001b[0m \u001b[0mf\u001b[0m \u001b[0;32min\u001b[0m \u001b[0mFEATURES\u001b[0m\u001b[0;34m\u001b[0m\u001b[0;34m\u001b[0m\u001b[0m\n\u001b[0m\u001b[1;32m     11\u001b[0m ]\n\u001b[1;32m     12\u001b[0m \u001b[0mFEATURES_DICT\u001b[0m \u001b[0;34m=\u001b[0m \u001b[0mdict\u001b[0m\u001b[0;34m(\u001b[0m\u001b[0mzip\u001b[0m\u001b[0;34m(\u001b[0m\u001b[0mFEATURES\u001b[0m\u001b[0;34m,\u001b[0m \u001b[0mCOLUMNS\u001b[0m\u001b[0;34m)\u001b[0m\u001b[0;34m)\u001b[0m\u001b[0;34m\u001b[0m\u001b[0;34m\u001b[0m\u001b[0m\n",
      "\u001b[0;31mNameError\u001b[0m: name 'tf' is not defined"
     ]
    }
   ],
   "source": [
    "import ten\n",
    "BANDS = ['ndvi_default', 'ndvi_yeardiff', 'nightlight_default', 'nightlight_yeardiff']\n",
    "LABEL = 'class'\n",
    "FEATURES = BANDS + [LABEL]\n",
    "\n",
    "# Specify the size and shape of patches expected by the model.\n",
    "KERNEL_SIZE = 256\n",
    "KERNEL_SHAPE = [KERNEL_SIZE, KERNEL_SIZE]\n",
    "COLUMNS = [\n",
    "  tf.io.FixedLenFeature(shape=KERNEL_SHAPE, dtype=tf.float32) for f in FEATURES \n",
    "]\n",
    "FEATURES_DICT = dict(zip(FEATURES, COLUMNS))\n",
    "\n",
    "list = ee.List.repeat(1, KERNEL_SIZE)\n",
    "lists = ee.List.repeat(list, KERNEL_SIZE)\n",
    "kernel = ee.Kernel.fixed(KERNEL_SIZE, KERNEL_SIZE, lists)\n",
    "\n",
    "year=2016\n",
    "train_featureStack = merged_feature_and_gt['train'][year]\n",
    "train_arrays = train_featureStack.neighborhoodToArray(kernel)\n",
    "\n",
    "val_featureStack = merged_feature_and_gt['val'][year]\n",
    "val_arrays = val_featureStack.neighborhoodToArray(kernel)\n",
    "\n",
    "eval_featureStack = merged_feature_and_gt['eval'][year]\n",
    "eval_arrays = eval_featureStack.neighborhoodToArray(kernel)\n"
   ]
  },
  {
   "cell_type": "code",
   "execution_count": null,
   "metadata": {},
   "outputs": [],
   "source": [
    "\n",
    "# Convert the feature collections to lists for iteration.\n",
    "trainingPolysList = trainingPolys.toList(trainingPolys.size())\n",
    "evalPolysList = evalPolys.toList(evalPolys.size())\n",
    "valPolysList = valPolys.toList(valPolys.size())"
   ]
  },
  {
   "cell_type": "code",
   "execution_count": 6,
   "metadata": {},
   "outputs": [],
   "source": [
    "\n",
    "# Specify names locations for outputs in Cloud Storage. \n",
    "FOLDER = 'xingu_demo_v1'\n",
    "TRAINING_BASE = 'training_patches'\n",
    "VAL_BASE = 'val_patches'\n",
    "EVAL_BASE = 'eval_patches'\n",
    "BUCKET = 'xingu_data'\n",
    "\n",
    "# These numbers determined experimentally.\n",
    "#n = 200 # Number of shards in each polygon.\n",
    "#N = 2000 # Total sample size in each polygon.\n",
    "n = 20 # Number of shards in each polygon.\n",
    "N = 100 # Total sample size in each polygon.\n"
   ]
  },
  {
   "cell_type": "code",
   "execution_count": 61,
   "metadata": {},
   "outputs": [
    {
     "name": "stdout",
     "output_type": "stream",
     "text": [
      "training polygons: 11\n",
      "uploading 100 samples per region to google cloud..\n",
      "(train) starting cloud storage upload\n",
      "(train) starting cloud storage upload\n",
      "(train) starting cloud storage upload\n",
      "(train) starting cloud storage upload\n",
      "(train) starting cloud storage upload\n",
      "(train) starting cloud storage upload\n",
      "(train) starting cloud storage upload\n",
      "(train) starting cloud storage upload\n",
      "(train) starting cloud storage upload\n",
      "(train) starting cloud storage upload\n",
      "(train) starting cloud storage upload\n",
      "(val) starting cloud storage upload\n",
      "(val) starting cloud storage upload\n",
      "(eval) starting cloud storage upload\n",
      "(eval) starting cloud storage upload\n",
      "(eval) starting cloud storage upload\n"
     ]
    }
   ],
   "source": [
    "# Export all the training data (in many pieces), with one task \n",
    "# per geometry.\n",
    "training_polys = trainingPolys.size().getInfo()\n",
    "print('training polygons: {}'.format(training_polys))\n",
    "print(\"uploading {} samples per region to google cloud..\".format(N))\n",
    "for g in range(training_polys):\n",
    "  geomSample = ee.FeatureCollection([])\n",
    "  for i in range(n):\n",
    "    sample = train_arrays.sample(\n",
    "      region = ee.Feature(trainingPolysList.get(g)).geometry(), \n",
    "      scale = 30, \n",
    "      numPixels = N / n, # Size of the shard.\n",
    "      seed = i,\n",
    "      tileScale = 8\n",
    "    )\n",
    "    geomSample = geomSample.merge(sample)\n",
    "  \n",
    "  desc = TRAINING_BASE + '_g' + str(g)\n",
    "  task = ee.batch.Export.table.toCloudStorage(\n",
    "    collection = geomSample,\n",
    "    description = desc, \n",
    "    bucket = BUCKET, \n",
    "    fileNamePrefix = FOLDER + '/' + desc,\n",
    "    fileFormat = 'TFRecord',\n",
    "    selectors = FEATURES \n",
    "  )\n",
    "  print('(train) starting cloud storage upload')\n",
    "  task.start()\n",
    "    \n",
    "    \n",
    "for g in range(valPolys.size().getInfo()):\n",
    "  geomSample = ee.FeatureCollection([])\n",
    "  for i in range(n):\n",
    "    sample = val_arrays.sample(\n",
    "      region = ee.Feature(valPolysList.get(g)).geometry(), \n",
    "      scale = 30, \n",
    "      numPixels = N / n, # Size of the shard.\n",
    "      seed = i,\n",
    "      tileScale = 8\n",
    "    )\n",
    "    geomSample = geomSample.merge(sample)\n",
    "  \n",
    "  desc = VAL_BASE + '_g' + str(g)\n",
    "  task = ee.batch.Export.table.toCloudStorage(\n",
    "    collection = geomSample,\n",
    "    description = desc, \n",
    "    bucket = BUCKET, \n",
    "    fileNamePrefix = FOLDER + '/' + desc,\n",
    "    fileFormat = 'TFRecord',\n",
    "    selectors = FEATURES \n",
    "  )\n",
    "  print('(val) starting cloud storage upload')\n",
    "  task.start()\n",
    "    \n",
    "\n",
    "for g in range(evalPolys.size().getInfo()):\n",
    "  geomSample = ee.FeatureCollection([])\n",
    "  for i in range(n):\n",
    "    sample = eval_arrays.sample(\n",
    "      region = ee.Feature(evalPolysList.get(g)).geometry(), \n",
    "      scale = 30, \n",
    "      numPixels = N / n, # Size of the shard.\n",
    "      seed = i,\n",
    "      tileScale = 8\n",
    "    )\n",
    "    geomSample = geomSample.merge(sample)\n",
    "  \n",
    "  desc = EVAL_BASE + '_g' + str(g)\n",
    "  task = ee.batch.Export.table.toCloudStorage(\n",
    "    collection = geomSample,\n",
    "    description = desc, \n",
    "    bucket = BUCKET, \n",
    "    fileNamePrefix = FOLDER + '/' + desc,\n",
    "    fileFormat = 'TFRecord',\n",
    "    selectors = FEATURES \n",
    "  )\n",
    "  print('(eval) starting cloud storage upload')\n",
    "  task.start()\n"
   ]
  },
  {
   "cell_type": "code",
   "execution_count": 72,
   "metadata": {},
   "outputs": [],
   "source": [
    "#GS_AUTH_JSON = os.path.join(home, 'google_cloud/xingu_service.json')\n",
    "def parse_tfrecord(example_proto):\n",
    "  \"\"\"The parsing function.\n",
    "  Read a serialized example into the structure defined by FEATURES_DICT.\n",
    "  Args:\n",
    "    example_proto: a serialized Example.\n",
    "  Returns: \n",
    "    A dictionary of tensors, keyed by feature name.\n",
    "  \"\"\"\n",
    "  return tf.io.parse_single_example(example_proto, FEATURES_DICT)\n",
    "\n",
    "\n",
    "def to_tuple(inputs):\n",
    "  \"\"\"Function to convert a dictionary of tensors to a tuple of (inputs, outputs).\n",
    "  Turn the tensors returned by parse_tfrecord into a stack in HWC shape.\n",
    "  Args:\n",
    "    inputs: A dictionary of tensors, keyed by feature name.\n",
    "  Returns: \n",
    "    A dtuple of (inputs, outputs).\n",
    "  \"\"\"\n",
    "  inputsList = [inputs.get(key) for key in FEATURES]\n",
    "  stacked = tf.stack(inputsList, axis=0)\n",
    "  # Convert from CHW to HWC\n",
    "  stacked = tf.transpose(stacked, [1, 2, 0])\n",
    "  return stacked[:,:,:len(BANDS)], stacked[:,:,len(BANDS):]\n",
    "\n",
    "\n",
    "def list_blobs_with_prefix(bucket_name, prefix):\n",
    "#    storage_client = storage.Client.from_service_account_json(\n",
    "#            GS_AUTH_JSON)\n",
    "    storage_client = storage.Client()\n",
    "\n",
    "    # Note: Client.list_blobs requires at least package version 1.17.0.\n",
    "    blobs = storage_client.list_blobs(\n",
    "        bucket_name, prefix=prefix, delimiter=delimiter\n",
    "    )\n",
    "\n",
    "    return blobs\n",
    "\n",
    "def get_files_for_blobs(bucket_name, blobs):\n",
    "#    storage_client = storage.Client.from_service_account_json(\n",
    "#            GS_AUTH_JSON)\n",
    "    storage_client = storage.Client()\n",
    "\n",
    "    files= []\n",
    "    for blob in blobs:\n",
    "        blob_files = storage_client.list_blobs(\n",
    "            bucket_name, prefix=prefix, delimiter=delimiter\n",
    "        )\n",
    "\n",
    "    return blobs\n",
    "\n",
    "\n",
    "#def get_dataset(bucket, pattern):\n",
    "def get_dataset(pattern):\n",
    "    \"\"\"Function to read, parse and format to tuple a set of input tfrecord files.\n",
    "    Get all the files matching the pattern, parse and convert to tuple.\n",
    "    Args:\n",
    "    pattern: A file pattern to match in a Cloud Storage bucket.\n",
    "    Returns: \n",
    "    A tf.data.Dataset\n",
    "    \"\"\"\n",
    "  #glob = tf.gfile.Glob(pattern)\n",
    "    glob = tf.io.gfile.glob(pattern)\n",
    "    print('dataset matches: {}'.format(glob))\n",
    "    dataset = tf.data.TFRecordDataset(glob, compression_type='GZIP')\n",
    "    #print(dataset)\n",
    "    dataset = dataset.map(parse_tfrecord, num_parallel_calls=5)\n",
    "    dataset = dataset.map(to_tuple, num_parallel_calls=5)\n",
    "    return dataset"
   ]
  },
  {
   "cell_type": "code",
   "execution_count": 73,
   "metadata": {},
   "outputs": [
    {
     "name": "stdout",
     "output_type": "stream",
     "text": [
      "xingu_data\n"
     ]
    }
   ],
   "source": [
    "from pathlib import Path\n",
    "#home = str(Path.home())\n",
    "\n",
    "## Authorize Google Storage\n",
    "\n",
    "from google.cloud import storage\n",
    "# Instantiates a client\n",
    "storage_client = storage.Client()\n",
    "#storage_client = storage.Client.from_service_account_json(GS_AUTH_JSON)\n",
    "\n",
    "\n",
    "# The name for the new bucket\n",
    "\n",
    "# Make an authenticated API request\n",
    "buckets = storage_client.list_buckets()\n",
    "for bucket in buckets:\n",
    "    print(bucket.name)\n",
    "#bucket = storage_client.list_bucket(BUCKET)\n"
   ]
  },
  {
   "cell_type": "code",
   "execution_count": 74,
   "metadata": {},
   "outputs": [],
   "source": [
    "# Sizes of the training and evaluation datasets.\n",
    "TRAIN_SIZE = 16000\n",
    "EVAL_SIZE = 8000\n",
    "VAL_SIZE = 6000\n",
    "\n",
    "# Specify model training parameters.\n",
    "BATCH_SIZE = 16\n",
    "EPOCHS = 50\n",
    "BUFFER_SIZE = 3000\n",
    "OPTIMIZER = 'SGD'\n",
    "LOSS = 'MeanSquaredError'\n",
    "METRICS = ['RootMeanSquaredError']"
   ]
  },
  {
   "cell_type": "code",
   "execution_count": 4,
   "metadata": {},
   "outputs": [
    {
     "ename": "NameError",
     "evalue": "name 'BUCKET' is not defined",
     "output_type": "error",
     "traceback": [
      "\u001b[0;31m---------------------------------------------------------------------------\u001b[0m",
      "\u001b[0;31mNameError\u001b[0m                                 Traceback (most recent call last)",
      "\u001b[0;32m<ipython-input-4-ce6ba48d75fa>\u001b[0m in \u001b[0;36m<module>\u001b[0;34m()\u001b[0m\n\u001b[1;32m      9\u001b[0m     \u001b[0;32mreturn\u001b[0m \u001b[0mdataset\u001b[0m\u001b[0;34m\u001b[0m\u001b[0;34m\u001b[0m\u001b[0m\n\u001b[1;32m     10\u001b[0m \u001b[0;34m\u001b[0m\u001b[0m\n\u001b[0;32m---> 11\u001b[0;31m \u001b[0mtraining\u001b[0m \u001b[0;34m=\u001b[0m \u001b[0mget_training_dataset\u001b[0m\u001b[0;34m(\u001b[0m\u001b[0;34m)\u001b[0m\u001b[0;34m\u001b[0m\u001b[0;34m\u001b[0m\u001b[0m\n\u001b[0m",
      "\u001b[0;32m<ipython-input-4-ce6ba48d75fa>\u001b[0m in \u001b[0;36mget_training_dataset\u001b[0;34m()\u001b[0m\n\u001b[1;32m      4\u001b[0m     \u001b[0mA\u001b[0m \u001b[0mtf\u001b[0m\u001b[0;34m.\u001b[0m\u001b[0mdata\u001b[0m\u001b[0;34m.\u001b[0m\u001b[0mDataset\u001b[0m \u001b[0mof\u001b[0m \u001b[0mtraining\u001b[0m \u001b[0mdata\u001b[0m\u001b[0;34m.\u001b[0m\u001b[0;34m\u001b[0m\u001b[0;34m\u001b[0m\u001b[0m\n\u001b[1;32m      5\u001b[0m     \"\"\"\n\u001b[0;32m----> 6\u001b[0;31m     \u001b[0mglob\u001b[0m \u001b[0;34m=\u001b[0m \u001b[0;34m'gs://'\u001b[0m \u001b[0;34m+\u001b[0m \u001b[0mBUCKET\u001b[0m \u001b[0;34m+\u001b[0m \u001b[0;34m'/'\u001b[0m \u001b[0;34m+\u001b[0m \u001b[0mFOLDER\u001b[0m \u001b[0;34m+\u001b[0m \u001b[0;34m'/'\u001b[0m \u001b[0;34m+\u001b[0m \u001b[0mTRAINING_BASE\u001b[0m \u001b[0;34m+\u001b[0m \u001b[0;34m'*'\u001b[0m\u001b[0;34m\u001b[0m\u001b[0;34m\u001b[0m\u001b[0m\n\u001b[0m\u001b[1;32m      7\u001b[0m     \u001b[0mdataset\u001b[0m \u001b[0;34m=\u001b[0m \u001b[0mget_dataset\u001b[0m\u001b[0;34m(\u001b[0m\u001b[0mglob\u001b[0m\u001b[0;34m)\u001b[0m\u001b[0;34m\u001b[0m\u001b[0;34m\u001b[0m\u001b[0m\n\u001b[1;32m      8\u001b[0m     \u001b[0mdataset\u001b[0m \u001b[0;34m=\u001b[0m \u001b[0mdataset\u001b[0m\u001b[0;34m.\u001b[0m\u001b[0mshuffle\u001b[0m\u001b[0;34m(\u001b[0m\u001b[0mBUFFER_SIZE\u001b[0m\u001b[0;34m)\u001b[0m\u001b[0;34m.\u001b[0m\u001b[0mbatch\u001b[0m\u001b[0;34m(\u001b[0m\u001b[0mBATCH_SIZE\u001b[0m\u001b[0;34m)\u001b[0m\u001b[0;34m.\u001b[0m\u001b[0mrepeat\u001b[0m\u001b[0;34m(\u001b[0m\u001b[0;34m)\u001b[0m\u001b[0;34m\u001b[0m\u001b[0;34m\u001b[0m\u001b[0m\n",
      "\u001b[0;31mNameError\u001b[0m: name 'BUCKET' is not defined"
     ]
    }
   ],
   "source": [
    "def get_training_dataset():\n",
    "    \"\"\"Get the preprocessed training dataset\n",
    "    Returns: \n",
    "    A tf.data.Dataset of training data.\n",
    "    \"\"\"\n",
    "    glob = 'gs://' + BUCKET + '/' + FOLDER + '/' + TRAINING_BASE + '*'\n",
    "    dataset = get_dataset(glob)\n",
    "    dataset = dataset.shuffle(BUFFER_SIZE).batch(BATCH_SIZE).repeat()\n",
    "    return dataset\n",
    "\n",
    "training = get_training_dataset()"
   ]
  },
  {
   "cell_type": "code",
   "execution_count": 3,
   "metadata": {},
   "outputs": [
    {
     "ename": "NameError",
     "evalue": "name 'training' is not defined",
     "output_type": "error",
     "traceback": [
      "\u001b[0;31m---------------------------------------------------------------------------\u001b[0m",
      "\u001b[0;31mNameError\u001b[0m                                 Traceback (most recent call last)",
      "\u001b[0;32m<ipython-input-3-48b4e9703150>\u001b[0m in \u001b[0;36m<module>\u001b[0;34m()\u001b[0m\n\u001b[1;32m      1\u001b[0m \u001b[0;31m#first_training_sample = iter(training.take(1)).next()\u001b[0m\u001b[0;34m\u001b[0m\u001b[0;34m\u001b[0m\u001b[0;34m\u001b[0m\u001b[0m\n\u001b[1;32m      2\u001b[0m \u001b[0;32mimport\u001b[0m \u001b[0mtensorflow_datasets\u001b[0m \u001b[0;32mas\u001b[0m \u001b[0mtfds\u001b[0m\u001b[0;34m\u001b[0m\u001b[0;34m\u001b[0m\u001b[0m\n\u001b[0;32m----> 3\u001b[0;31m \u001b[0mnp_dataset_train\u001b[0m \u001b[0;34m=\u001b[0m \u001b[0mtfds\u001b[0m\u001b[0;34m.\u001b[0m\u001b[0mas_numpy\u001b[0m\u001b[0;34m(\u001b[0m\u001b[0mtraining\u001b[0m\u001b[0;34m)\u001b[0m\u001b[0;34m\u001b[0m\u001b[0;34m\u001b[0m\u001b[0m\n\u001b[0m",
      "\u001b[0;31mNameError\u001b[0m: name 'training' is not defined"
     ]
    }
   ],
   "source": [
    "#first_training_sample = iter(training.take(1)).next()\n",
    "import tensorflow_datasets as tfds\n",
    "np_dataset_train = tfds.as_numpy(training)\n"
   ]
  },
  {
   "cell_type": "code",
   "execution_count": 2,
   "metadata": {},
   "outputs": [
    {
     "ename": "NameError",
     "evalue": "name 'np_dataset_train' is not defined",
     "output_type": "error",
     "traceback": [
      "\u001b[0;31m---------------------------------------------------------------------------\u001b[0m",
      "\u001b[0;31mNameError\u001b[0m                                 Traceback (most recent call last)",
      "\u001b[0;32m<ipython-input-2-417a59b73426>\u001b[0m in \u001b[0;36m<module>\u001b[0;34m()\u001b[0m\n\u001b[1;32m      4\u001b[0m \u001b[0mall_features\u001b[0m \u001b[0;34m=\u001b[0m \u001b[0;34m[\u001b[0m\u001b[0;34m]\u001b[0m\u001b[0;31m#list(np_dataset_train)\u001b[0m\u001b[0;34m\u001b[0m\u001b[0;34m\u001b[0m\u001b[0m\n\u001b[1;32m      5\u001b[0m \u001b[0mall_labels\u001b[0m \u001b[0;34m=\u001b[0m \u001b[0;34m[\u001b[0m\u001b[0;34m]\u001b[0m\u001b[0;31m#list(np_dataset_train)\u001b[0m\u001b[0;34m\u001b[0m\u001b[0;34m\u001b[0m\u001b[0m\n\u001b[0;32m----> 6\u001b[0;31m \u001b[0;32mfor\u001b[0m \u001b[0msample\u001b[0m \u001b[0;32min\u001b[0m \u001b[0mtqdm\u001b[0m\u001b[0;34m.\u001b[0m\u001b[0mtqdm\u001b[0m\u001b[0;34m(\u001b[0m\u001b[0mnp_dataset_train\u001b[0m\u001b[0;34m)\u001b[0m\u001b[0;34m:\u001b[0m\u001b[0;34m\u001b[0m\u001b[0;34m\u001b[0m\u001b[0m\n\u001b[0m\u001b[1;32m      7\u001b[0m     \u001b[0mfeat_sample\u001b[0m\u001b[0;34m,\u001b[0m \u001b[0mlabel_sample\u001b[0m \u001b[0;34m=\u001b[0m \u001b[0msample\u001b[0m\u001b[0;34m\u001b[0m\u001b[0;34m\u001b[0m\u001b[0m\n\u001b[1;32m      8\u001b[0m     \u001b[0mall_features\u001b[0m\u001b[0;34m.\u001b[0m\u001b[0mappend\u001b[0m\u001b[0;34m(\u001b[0m\u001b[0mfeat_sample\u001b[0m\u001b[0;34m)\u001b[0m\u001b[0;34m\u001b[0m\u001b[0;34m\u001b[0m\u001b[0m\n",
      "\u001b[0;31mNameError\u001b[0m: name 'np_dataset_train' is not defined"
     ]
    }
   ],
   "source": [
    "import numpy as np\n",
    "import tqdm\n",
    "#all_samples = list(np_dataset_train)\n",
    "all_features = []#list(np_dataset_train)\n",
    "all_labels = []#list(np_dataset_train)\n",
    "for sample in tqdm.tqdm(np_dataset_train):\n",
    "    feat_sample, label_sample = sample\n",
    "    all_features.append(feat_sample)\n",
    "    all_labels.append(label_sample)\n",
    "    #print(label_sample)\n"
   ]
  },
  {
   "cell_type": "code",
   "execution_count": null,
   "metadata": {},
   "outputs": [],
   "source": [
    "train_features_path = 'xingu_demo_v1_train_features.npy'\n",
    "train_labels_path = 'xingu_demo_v1_train_labels.npy'\n",
    "all_features_np = np.array(all_features)\n",
    "all_labels_np = np.array(all_labels)\n",
    "np.save(train_features_path, all_features_np)\n",
    "np.save(train_labels_path, all_labels_np)\n"
   ]
  },
  {
   "cell_type": "code",
   "execution_count": 71,
   "metadata": {},
   "outputs": [
    {
     "name": "stdout",
     "output_type": "stream",
     "text": [
      "(16, 256, 256, 4)\n",
      "[[[[6.7669576e-01 4.8915616e-01 1.5808110e-03 4.2670196e-01]\n",
      "   [6.8123525e-01 4.7705665e-01 1.5808110e-03 4.2670196e-01]\n",
      "   [6.7849588e-01 4.8527911e-01 1.5808110e-03 4.2670196e-01]\n",
      "   ...\n",
      "   [8.1073135e-01 4.8042423e-01 1.4606729e-03 4.2566425e-01]\n",
      "   [8.0519527e-01 4.7699094e-01 1.4606729e-03 4.2566425e-01]\n",
      "   [8.3492845e-01 5.0669253e-01 1.4606729e-03 4.2566425e-01]]\n",
      "\n",
      "  [[6.8544567e-01 4.9352220e-01 1.5808110e-03 4.2670196e-01]\n",
      "   [7.0655853e-01 4.8961857e-01 1.5808110e-03 4.2670196e-01]\n",
      "   [6.9226313e-01 4.8721275e-01 1.5808110e-03 4.2670196e-01]\n",
      "   ...\n",
      "   [8.3686662e-01 5.0549346e-01 1.4606729e-03 4.2566425e-01]\n",
      "   [8.3248365e-01 5.0441867e-01 1.4606729e-03 4.2566425e-01]\n",
      "   [8.6755431e-01 5.3563303e-01 1.4606729e-03 4.2566425e-01]]\n",
      "\n",
      "  [[6.9102162e-01 4.8917937e-01 1.5808110e-03 4.2670196e-01]\n",
      "   [7.0474422e-01 4.9829191e-01 1.5808110e-03 4.2670196e-01]\n",
      "   [6.9755954e-01 4.8937619e-01 1.5808110e-03 4.2670196e-01]\n",
      "   ...\n",
      "   [8.4538281e-01 5.2332193e-01 1.4606729e-03 4.2566425e-01]\n",
      "   [8.6008263e-01 5.3651619e-01 1.4606729e-03 4.2566425e-01]\n",
      "   [8.7622845e-01 5.4211617e-01 1.4606729e-03 4.2566425e-01]]\n",
      "\n",
      "  ...\n",
      "\n",
      "  [[7.4305075e-01 5.3533483e-01 1.3419670e-03 4.2507711e-01]\n",
      "   [7.8778619e-01 5.4532945e-01 1.3419670e-03 4.2507711e-01]\n",
      "   [8.0920237e-01 5.4186469e-01 1.3419670e-03 4.2507711e-01]\n",
      "   ...\n",
      "   [0.0000000e+00 0.0000000e+00 0.0000000e+00 0.0000000e+00]\n",
      "   [0.0000000e+00 0.0000000e+00 0.0000000e+00 0.0000000e+00]\n",
      "   [0.0000000e+00 0.0000000e+00 0.0000000e+00 0.0000000e+00]]\n",
      "\n",
      "  [[7.8771788e-01 5.4539210e-01 1.3419670e-03 4.2507711e-01]\n",
      "   [8.0354446e-01 5.5275428e-01 1.3419670e-03 4.2507711e-01]\n",
      "   [8.0996972e-01 5.5364609e-01 1.3419670e-03 4.2507711e-01]\n",
      "   ...\n",
      "   [0.0000000e+00 0.0000000e+00 0.0000000e+00 0.0000000e+00]\n",
      "   [0.0000000e+00 0.0000000e+00 0.0000000e+00 0.0000000e+00]\n",
      "   [0.0000000e+00 0.0000000e+00 0.0000000e+00 0.0000000e+00]]\n",
      "\n",
      "  [[7.7960068e-01 5.6312400e-01 1.3419670e-03 4.2507711e-01]\n",
      "   [7.7072001e-01 5.5665982e-01 1.3419670e-03 4.2507711e-01]\n",
      "   [7.7464378e-01 5.4721558e-01 1.3419670e-03 4.2507711e-01]\n",
      "   ...\n",
      "   [0.0000000e+00 0.0000000e+00 0.0000000e+00 0.0000000e+00]\n",
      "   [0.0000000e+00 0.0000000e+00 0.0000000e+00 0.0000000e+00]\n",
      "   [0.0000000e+00 0.0000000e+00 0.0000000e+00 0.0000000e+00]]]\n",
      "\n",
      "\n",
      " [[[8.7414384e-01 6.4545625e-01 2.2773538e-03 5.8231181e-01]\n",
      "   [8.7907666e-01 6.5702349e-01 2.2773538e-03 5.8231181e-01]\n",
      "   [8.3809507e-01 6.2477142e-01 2.2773538e-03 5.8231181e-01]\n",
      "   ...\n",
      "   [8.8547564e-01 4.6555415e-01 2.7752870e-03 5.8570421e-01]\n",
      "   [8.8249785e-01 4.6760777e-01 2.2397407e-03 5.8395588e-01]\n",
      "   [8.8933086e-01 4.8807991e-01 2.2397407e-03 5.8395588e-01]]\n",
      "\n",
      "  [[8.8319433e-01 6.7502981e-01 2.2773538e-03 5.8231181e-01]\n",
      "   [8.8633889e-01 6.6636986e-01 2.2773538e-03 5.8231181e-01]\n",
      "   [8.5650331e-01 6.3801003e-01 2.2773538e-03 5.8231181e-01]\n",
      "   ...\n",
      "   [8.8305265e-01 4.9162540e-01 2.7752870e-03 5.8570421e-01]\n",
      "   [8.9250028e-01 4.9253947e-01 2.2397407e-03 5.8395588e-01]\n",
      "   [8.9891708e-01 5.0523067e-01 2.2397407e-03 5.8395588e-01]]\n",
      "\n",
      "  [[8.8941389e-01 6.8905669e-01 2.2773538e-03 5.8231181e-01]\n",
      "   [8.9052761e-01 6.8680608e-01 2.2773538e-03 5.8231181e-01]\n",
      "   [8.9052761e-01 6.8680608e-01 2.2773538e-03 5.8231181e-01]\n",
      "   ...\n",
      "   [8.8989389e-01 5.3754193e-01 2.7752870e-03 5.8570421e-01]\n",
      "   [8.7516129e-01 5.6545067e-01 2.2397407e-03 5.8395588e-01]\n",
      "   [8.5711324e-01 5.4072928e-01 2.2397407e-03 5.8395588e-01]]\n",
      "\n",
      "  ...\n",
      "\n",
      "  [[0.0000000e+00 0.0000000e+00 0.0000000e+00 0.0000000e+00]\n",
      "   [0.0000000e+00 0.0000000e+00 0.0000000e+00 0.0000000e+00]\n",
      "   [0.0000000e+00 0.0000000e+00 0.0000000e+00 0.0000000e+00]\n",
      "   ...\n",
      "   [0.0000000e+00 0.0000000e+00 0.0000000e+00 0.0000000e+00]\n",
      "   [0.0000000e+00 0.0000000e+00 0.0000000e+00 0.0000000e+00]\n",
      "   [0.0000000e+00 0.0000000e+00 0.0000000e+00 0.0000000e+00]]\n",
      "\n",
      "  [[0.0000000e+00 0.0000000e+00 0.0000000e+00 0.0000000e+00]\n",
      "   [0.0000000e+00 0.0000000e+00 0.0000000e+00 0.0000000e+00]\n",
      "   [0.0000000e+00 0.0000000e+00 0.0000000e+00 0.0000000e+00]\n",
      "   ...\n",
      "   [0.0000000e+00 0.0000000e+00 0.0000000e+00 0.0000000e+00]\n",
      "   [0.0000000e+00 0.0000000e+00 0.0000000e+00 0.0000000e+00]\n",
      "   [0.0000000e+00 0.0000000e+00 0.0000000e+00 0.0000000e+00]]\n",
      "\n",
      "  [[0.0000000e+00 0.0000000e+00 0.0000000e+00 0.0000000e+00]\n",
      "   [0.0000000e+00 0.0000000e+00 0.0000000e+00 0.0000000e+00]\n",
      "   [0.0000000e+00 0.0000000e+00 0.0000000e+00 0.0000000e+00]\n",
      "   ...\n",
      "   [0.0000000e+00 0.0000000e+00 0.0000000e+00 0.0000000e+00]\n",
      "   [0.0000000e+00 0.0000000e+00 0.0000000e+00 0.0000000e+00]\n",
      "   [0.0000000e+00 0.0000000e+00 0.0000000e+00 0.0000000e+00]]]\n",
      "\n",
      "\n",
      " [[[8.2950896e-01 4.9660683e-01 1.2712217e-03 4.2563796e-01]\n",
      "   [8.4191632e-01 4.9568251e-01 1.2712217e-03 4.2563796e-01]\n",
      "   [8.4303981e-01 4.9057856e-01 1.2712217e-03 4.2563796e-01]\n",
      "   ...\n",
      "   [8.8963658e-01 7.1480912e-01 7.3908700e-04 4.2431179e-01]\n",
      "   [8.9661294e-01 6.9314855e-01 7.3908700e-04 4.2431179e-01]\n",
      "   [9.0153551e-01 6.3780344e-01 7.3908700e-04 4.2431179e-01]]\n",
      "\n",
      "  [[8.3503705e-01 4.9757507e-01 1.2712217e-03 4.2563796e-01]\n",
      "   [8.3995324e-01 4.9063513e-01 1.2712217e-03 4.2563796e-01]\n",
      "   [8.2017440e-01 4.7458729e-01 1.2712217e-03 4.2563796e-01]\n",
      "   ...\n",
      "   [9.0190858e-01 7.2897959e-01 7.3908700e-04 4.2431179e-01]\n",
      "   [9.2163491e-01 7.3833942e-01 7.3908700e-04 4.2431179e-01]\n",
      "   [8.8205165e-01 6.2058079e-01 7.3908700e-04 4.2431179e-01]]\n",
      "\n",
      "  [[8.4710497e-01 5.1697987e-01 1.2712217e-03 4.2563796e-01]\n",
      "   [8.3851528e-01 4.8653299e-01 1.2712217e-03 4.2563796e-01]\n",
      "   [8.3658701e-01 4.7566333e-01 1.2712217e-03 4.2563796e-01]\n",
      "   ...\n",
      "   [9.0454203e-01 7.2838902e-01 7.3908700e-04 4.2431179e-01]\n",
      "   [8.9335686e-01 7.1802229e-01 7.3908700e-04 4.2431179e-01]\n",
      "   [8.7067699e-01 6.2671763e-01 7.3908700e-04 4.2431179e-01]]\n",
      "\n",
      "  ...\n",
      "\n",
      "  [[6.2612140e-01 3.9642960e-01 1.0150743e-03 4.2423147e-01]\n",
      "   [7.6169413e-01 5.2150565e-01 1.0150743e-03 4.2423147e-01]\n",
      "   [7.6611340e-01 5.2304631e-01 1.0150743e-03 4.2423147e-01]\n",
      "   ...\n",
      "   [0.0000000e+00 0.0000000e+00 0.0000000e+00 0.0000000e+00]\n",
      "   [0.0000000e+00 0.0000000e+00 0.0000000e+00 0.0000000e+00]\n",
      "   [0.0000000e+00 0.0000000e+00 0.0000000e+00 0.0000000e+00]]\n",
      "\n",
      "  [[0.0000000e+00 0.0000000e+00 0.0000000e+00 0.0000000e+00]\n",
      "   [0.0000000e+00 0.0000000e+00 0.0000000e+00 0.0000000e+00]\n",
      "   [0.0000000e+00 0.0000000e+00 0.0000000e+00 0.0000000e+00]\n",
      "   ...\n",
      "   [0.0000000e+00 0.0000000e+00 0.0000000e+00 0.0000000e+00]\n",
      "   [0.0000000e+00 0.0000000e+00 0.0000000e+00 0.0000000e+00]\n",
      "   [0.0000000e+00 0.0000000e+00 0.0000000e+00 0.0000000e+00]]\n",
      "\n",
      "  [[0.0000000e+00 0.0000000e+00 0.0000000e+00 0.0000000e+00]\n",
      "   [0.0000000e+00 0.0000000e+00 0.0000000e+00 0.0000000e+00]\n",
      "   [0.0000000e+00 0.0000000e+00 0.0000000e+00 0.0000000e+00]\n",
      "   ...\n",
      "   [0.0000000e+00 0.0000000e+00 0.0000000e+00 0.0000000e+00]\n",
      "   [0.0000000e+00 0.0000000e+00 0.0000000e+00 0.0000000e+00]\n",
      "   [0.0000000e+00 0.0000000e+00 0.0000000e+00 0.0000000e+00]]]\n",
      "\n",
      "\n",
      " ...\n",
      "\n",
      "\n",
      " [[[0.0000000e+00 0.0000000e+00 0.0000000e+00 0.0000000e+00]\n",
      "   [0.0000000e+00 0.0000000e+00 0.0000000e+00 0.0000000e+00]\n",
      "   [0.0000000e+00 0.0000000e+00 0.0000000e+00 0.0000000e+00]\n",
      "   ...\n",
      "   [5.1733732e-01 3.7564120e-01 3.8367175e-03 8.0314958e-01]\n",
      "   [5.1217538e-01 3.6154142e-01 3.8367175e-03 8.0314958e-01]\n",
      "   [5.3894168e-01 3.8407800e-01 3.7540661e-03 7.8884763e-01]]\n",
      "\n",
      "  [[0.0000000e+00 0.0000000e+00 0.0000000e+00 0.0000000e+00]\n",
      "   [0.0000000e+00 0.0000000e+00 0.0000000e+00 0.0000000e+00]\n",
      "   [0.0000000e+00 0.0000000e+00 0.0000000e+00 0.0000000e+00]\n",
      "   ...\n",
      "   [5.1733732e-01 3.7564120e-01 4.6837009e-03 8.0397415e-01]\n",
      "   [5.1217538e-01 3.6154142e-01 4.6837009e-03 8.0397415e-01]\n",
      "   [5.3894168e-01 3.8407800e-01 4.0374347e-03 7.9848409e-01]]\n",
      "\n",
      "  [[0.0000000e+00 0.0000000e+00 0.0000000e+00 0.0000000e+00]\n",
      "   [0.0000000e+00 0.0000000e+00 0.0000000e+00 0.0000000e+00]\n",
      "   [0.0000000e+00 0.0000000e+00 0.0000000e+00 0.0000000e+00]\n",
      "   ...\n",
      "   [5.5237520e-01 3.8246763e-01 4.6837009e-03 8.0397415e-01]\n",
      "   [5.6144893e-01 4.0397432e-01 4.6837009e-03 8.0397415e-01]\n",
      "   [5.7018465e-01 4.3204466e-01 4.0374347e-03 7.9848409e-01]]\n",
      "\n",
      "  ...\n",
      "\n",
      "  [[0.0000000e+00 0.0000000e+00 0.0000000e+00 0.0000000e+00]\n",
      "   [0.0000000e+00 0.0000000e+00 0.0000000e+00 0.0000000e+00]\n",
      "   [0.0000000e+00 0.0000000e+00 0.0000000e+00 0.0000000e+00]\n",
      "   ...\n",
      "   [7.6460594e-01 3.7993777e-01 4.4221217e-03 8.0037069e-01]\n",
      "   [8.4899652e-01 4.6092215e-01 4.4221217e-03 8.0037069e-01]\n",
      "   [8.3251542e-01 4.2730719e-01 4.9894699e-03 8.1380790e-01]]\n",
      "\n",
      "  [[0.0000000e+00 0.0000000e+00 0.0000000e+00 0.0000000e+00]\n",
      "   [0.0000000e+00 0.0000000e+00 0.0000000e+00 0.0000000e+00]\n",
      "   [0.0000000e+00 0.0000000e+00 0.0000000e+00 0.0000000e+00]\n",
      "   ...\n",
      "   [8.7815732e-01 4.9359459e-01 4.4221217e-03 8.0037069e-01]\n",
      "   [8.8392979e-01 4.9506378e-01 4.4221217e-03 8.0037069e-01]\n",
      "   [8.8797891e-01 4.9550349e-01 4.9894699e-03 8.1380790e-01]]\n",
      "\n",
      "  [[0.0000000e+00 0.0000000e+00 0.0000000e+00 0.0000000e+00]\n",
      "   [0.0000000e+00 0.0000000e+00 0.0000000e+00 0.0000000e+00]\n",
      "   [0.0000000e+00 0.0000000e+00 0.0000000e+00 0.0000000e+00]\n",
      "   ...\n",
      "   [8.8821089e-01 4.9767581e-01 4.4221217e-03 8.0037069e-01]\n",
      "   [8.9988536e-01 5.2089870e-01 4.4221217e-03 8.0037069e-01]\n",
      "   [9.0237468e-01 5.1397192e-01 4.9894699e-03 8.1380790e-01]]]\n",
      "\n",
      "\n",
      " [[[0.0000000e+00 0.0000000e+00 0.0000000e+00 0.0000000e+00]\n",
      "   [0.0000000e+00 0.0000000e+00 0.0000000e+00 0.0000000e+00]\n",
      "   [0.0000000e+00 0.0000000e+00 0.0000000e+00 0.0000000e+00]\n",
      "   ...\n",
      "   [2.3350251e-01 6.0439926e-01 0.0000000e+00 4.5286071e-01]\n",
      "   [2.4857594e-01 6.0398167e-01 0.0000000e+00 4.5286071e-01]\n",
      "   [2.1298023e-01 6.0784817e-01 0.0000000e+00 4.5286071e-01]]\n",
      "\n",
      "  [[0.0000000e+00 0.0000000e+00 0.0000000e+00 0.0000000e+00]\n",
      "   [0.0000000e+00 0.0000000e+00 0.0000000e+00 0.0000000e+00]\n",
      "   [0.0000000e+00 0.0000000e+00 0.0000000e+00 0.0000000e+00]\n",
      "   ...\n",
      "   [2.3471557e-01 6.4169931e-01 0.0000000e+00 4.5286071e-01]\n",
      "   [2.2728825e-01 6.3849312e-01 0.0000000e+00 4.5286071e-01]\n",
      "   [2.4154884e-01 6.5048385e-01 0.0000000e+00 4.5286071e-01]]\n",
      "\n",
      "  [[0.0000000e+00 0.0000000e+00 0.0000000e+00 0.0000000e+00]\n",
      "   [0.0000000e+00 0.0000000e+00 0.0000000e+00 0.0000000e+00]\n",
      "   [0.0000000e+00 0.0000000e+00 0.0000000e+00 0.0000000e+00]\n",
      "   ...\n",
      "   [2.4909566e-01 6.6090739e-01 0.0000000e+00 4.5286071e-01]\n",
      "   [2.5916004e-01 6.6549200e-01 0.0000000e+00 4.5286071e-01]\n",
      "   [3.0315733e-01 6.8478584e-01 0.0000000e+00 4.5286071e-01]]\n",
      "\n",
      "  ...\n",
      "\n",
      "  [[0.0000000e+00 0.0000000e+00 0.0000000e+00 0.0000000e+00]\n",
      "   [0.0000000e+00 0.0000000e+00 0.0000000e+00 0.0000000e+00]\n",
      "   [0.0000000e+00 0.0000000e+00 0.0000000e+00 0.0000000e+00]\n",
      "   ...\n",
      "   [2.0649675e-01 5.5081058e-01 2.7618209e-01 6.3482726e-01]\n",
      "   [2.3145649e-01 5.7226992e-01 2.7618209e-01 6.3482726e-01]\n",
      "   [2.6544407e-01 5.9572047e-01 2.7618209e-01 6.3482726e-01]]\n",
      "\n",
      "  [[0.0000000e+00 0.0000000e+00 0.0000000e+00 0.0000000e+00]\n",
      "   [0.0000000e+00 0.0000000e+00 0.0000000e+00 0.0000000e+00]\n",
      "   [0.0000000e+00 0.0000000e+00 0.0000000e+00 0.0000000e+00]\n",
      "   ...\n",
      "   [1.8466562e-01 5.3021252e-01 2.7618209e-01 6.3482726e-01]\n",
      "   [1.9997540e-01 5.5947959e-01 2.7618209e-01 6.3482726e-01]\n",
      "   [2.6627424e-01 5.9905672e-01 2.7618209e-01 6.3482726e-01]]\n",
      "\n",
      "  [[0.0000000e+00 0.0000000e+00 0.0000000e+00 0.0000000e+00]\n",
      "   [0.0000000e+00 0.0000000e+00 0.0000000e+00 0.0000000e+00]\n",
      "   [0.0000000e+00 0.0000000e+00 0.0000000e+00 0.0000000e+00]\n",
      "   ...\n",
      "   [2.6847422e-01 5.8302522e-01 2.7618209e-01 6.3482726e-01]\n",
      "   [2.0096155e-01 5.5733210e-01 2.7618209e-01 6.3482726e-01]\n",
      "   [2.5070220e-01 5.7752490e-01 2.7618209e-01 6.3482726e-01]]]\n",
      "\n",
      "\n",
      " [[[8.5527062e-01 5.2812684e-01 8.2083023e-04 4.4682980e-01]\n",
      "   [8.4456104e-01 5.1696652e-01 8.2083023e-04 4.4682980e-01]\n",
      "   [8.7849933e-01 5.3114790e-01 8.2083023e-04 4.4682980e-01]\n",
      "   ...\n",
      "   [8.7313479e-01 5.0490677e-01 1.6841452e-03 4.4785976e-01]\n",
      "   [8.9095628e-01 5.4037672e-01 1.6841452e-03 4.4785976e-01]\n",
      "   [8.8632137e-01 5.3801656e-01 1.6841452e-03 4.4785976e-01]]\n",
      "\n",
      "  [[8.9100403e-01 5.5836672e-01 8.2083023e-04 4.4682980e-01]\n",
      "   [8.9431220e-01 5.3940618e-01 8.2083023e-04 4.4682980e-01]\n",
      "   [9.2005801e-01 5.6565696e-01 8.2083023e-04 4.4682980e-01]\n",
      "   ...\n",
      "   [8.7569088e-01 5.0702244e-01 1.6841452e-03 4.4785976e-01]\n",
      "   [8.7873620e-01 5.5441052e-01 1.6841452e-03 4.4785976e-01]\n",
      "   [8.7210256e-01 5.3589487e-01 1.6841452e-03 4.4785976e-01]]\n",
      "\n",
      "  [[8.7858874e-01 5.1920354e-01 8.2083023e-04 4.4682980e-01]\n",
      "   [9.0219259e-01 5.4439712e-01 8.2083023e-04 4.4682980e-01]\n",
      "   [9.2207664e-01 5.6681681e-01 8.2083023e-04 4.4682980e-01]\n",
      "   ...\n",
      "   [8.5549414e-01 4.9000829e-01 1.6841452e-03 4.4785976e-01]\n",
      "   [8.5185009e-01 4.9631396e-01 1.6841452e-03 4.4785976e-01]\n",
      "   [8.0904901e-01 4.6600968e-01 1.6841452e-03 4.4785976e-01]]\n",
      "\n",
      "  ...\n",
      "\n",
      "  [[7.3086083e-01 4.5476896e-01 1.1630994e-03 4.4974282e-01]\n",
      "   [7.2342467e-01 4.8426563e-01 1.1630994e-03 4.4974282e-01]\n",
      "   [6.8428165e-01 4.6048099e-01 1.1630994e-03 4.4974282e-01]\n",
      "   ...\n",
      "   [8.8267487e-01 6.7704576e-01 1.5468042e-03 4.5053735e-01]\n",
      "   [8.5549349e-01 6.1990917e-01 1.5468042e-03 4.5053735e-01]\n",
      "   [8.7301081e-01 6.3589424e-01 1.5468042e-03 4.5053735e-01]]\n",
      "\n",
      "  [[6.7789483e-01 4.1989511e-01 1.1630994e-03 4.4974282e-01]\n",
      "   [7.2218752e-01 4.7727606e-01 1.1630994e-03 4.4974282e-01]\n",
      "   [6.8183511e-01 4.4644299e-01 1.1630994e-03 4.4974282e-01]\n",
      "   ...\n",
      "   [8.7024373e-01 6.3744855e-01 1.5468042e-03 4.5053735e-01]\n",
      "   [8.6006814e-01 5.7061678e-01 1.5468042e-03 4.5053735e-01]\n",
      "   [8.7490439e-01 6.2613112e-01 1.5468042e-03 4.5053735e-01]]\n",
      "\n",
      "  [[6.7106253e-01 4.0383512e-01 1.7979217e-03 4.5282555e-01]\n",
      "   [7.8688663e-01 5.1533425e-01 1.7979217e-03 4.5282555e-01]\n",
      "   [7.6271874e-01 4.8884079e-01 1.7979217e-03 4.5282555e-01]\n",
      "   ...\n",
      "   [8.5768390e-01 6.2153864e-01 1.5815663e-03 4.5040396e-01]\n",
      "   [8.4706056e-01 5.9944826e-01 1.5815663e-03 4.5040396e-01]\n",
      "   [8.5225242e-01 6.0645467e-01 1.5815663e-03 4.5040396e-01]]]]\n"
     ]
    }
   ],
   "source": [
    "#inspect data\n",
    "\n",
    "print(first_training_sample[0].shape)\n",
    "numpy_test =first_training_sample[0].numpy()\n",
    "print(numpy_test)\n"
   ]
  },
  {
   "cell_type": "code",
   "execution_count": null,
   "metadata": {},
   "outputs": [],
   "source": []
  },
  {
   "cell_type": "code",
   "execution_count": null,
   "metadata": {},
   "outputs": [],
   "source": [
    "def get_val_dataset():\n",
    "\t\"\"\"Get the preprocessed valuation dataset\n",
    "  Returns: \n",
    "    A tf.data.Dataset of evaluation data.\n",
    "  \"\"\"\n",
    "\tglob = 'gs://' + BUCKET + '/' + FOLDER + '/' + VAL_BASE + '*'\n",
    "\tdataset = get_dataset(glob)\n",
    "\tdataset = dataset.batch(1).repeat()\n",
    "\treturn dataset\n",
    "\n",
    "validation = get_val_dataset()"
   ]
  },
  {
   "cell_type": "code",
   "execution_count": null,
   "metadata": {},
   "outputs": [],
   "source": [
    "\n",
    "first_validation_sample = iter(validation.take(1)).next()\n",
    "print(first_training_sample[0].shape)"
   ]
  },
  {
   "cell_type": "code",
   "execution_count": null,
   "metadata": {},
   "outputs": [],
   "source": []
  },
  {
   "cell_type": "code",
   "execution_count": null,
   "metadata": {},
   "outputs": [],
   "source": [
    "from tensorflow.python.keras import layers\n",
    "from tensorflow.python.keras import losses\n",
    "from tensorflow.python.keras import models\n",
    "from tensorflow.python.keras import metrics\n",
    "from tensorflow.python.keras import optimizers\n",
    "\n",
    "def conv_block(input_tensor, num_filters):\n",
    "\tencoder = layers.Conv2D(num_filters, (3, 3), padding='same')(input_tensor)\n",
    "\tencoder = layers.BatchNormalization()(encoder)\n",
    "\tencoder = layers.Activation('relu')(encoder)\n",
    "\tencoder = layers.Conv2D(num_filters, (3, 3), padding='same')(encoder)\n",
    "\tencoder = layers.BatchNormalization()(encoder)\n",
    "\tencoder = layers.Activation('relu')(encoder)\n",
    "\treturn encoder\n",
    "\n",
    "def encoder_block(input_tensor, num_filters):\n",
    "\tencoder = conv_block(input_tensor, num_filters)\n",
    "\tencoder_pool = layers.MaxPooling2D((2, 2), strides=(2, 2))(encoder)\n",
    "\treturn encoder_pool, encoder\n",
    "\n",
    "def decoder_block(input_tensor, concat_tensor, num_filters):\n",
    "\tdecoder = layers.Conv2DTranspose(num_filters, (2, 2), strides=(2, 2), padding='same')(input_tensor)\n",
    "\tdecoder = layers.concatenate([concat_tensor, decoder], axis=-1)\n",
    "\tdecoder = layers.BatchNormalization()(decoder)\n",
    "\tdecoder = layers.Activation('relu')(decoder)\n",
    "\tdecoder = layers.Conv2D(num_filters, (3, 3), padding='same')(decoder)\n",
    "\tdecoder = layers.BatchNormalization()(decoder)\n",
    "\tdecoder = layers.Activation('relu')(decoder)\n",
    "\tdecoder = layers.Conv2D(num_filters, (3, 3), padding='same')(decoder)\n",
    "\tdecoder = layers.BatchNormalization()(decoder)\n",
    "\tdecoder = layers.Activation('relu')(decoder)\n",
    "\treturn decoder\n",
    "\n",
    "def get_model():\n",
    "\tinputs = layers.Input(shape=[None, None, len(BANDS)]) # 256\n",
    "\tencoder0_pool, encoder0 = encoder_block(inputs, 32) # 128\n",
    "\tencoder1_pool, encoder1 = encoder_block(encoder0_pool, 64) # 64\n",
    "\tencoder2_pool, encoder2 = encoder_block(encoder1_pool, 128) # 32\n",
    "\tencoder3_pool, encoder3 = encoder_block(encoder2_pool, 256) # 16\n",
    "\tencoder4_pool, encoder4 = encoder_block(encoder3_pool, 512) # 8\n",
    "\tcenter = conv_block(encoder4_pool, 1024) # center\n",
    "\tdecoder4 = decoder_block(center, encoder4, 512) # 16\n",
    "\tdecoder3 = decoder_block(decoder4, encoder3, 256) # 32\n",
    "\tdecoder2 = decoder_block(decoder3, encoder2, 128) # 64\n",
    "\tdecoder1 = decoder_block(decoder2, encoder1, 64) # 128\n",
    "\tdecoder0 = decoder_block(decoder1, encoder0, 32) # 256\n",
    "\toutputs = layers.Conv2D(1, (1, 1), activation='sigmoid')(decoder0)\n",
    "\n",
    "\tmodel = models.Model(inputs=[inputs], outputs=[outputs])\n",
    "\n",
    "\tmodel.compile(\n",
    "\t\toptimizer=optimizers.get(OPTIMIZER), \n",
    "\t\tloss=losses.get(LOSS),\n",
    "\t\tmetrics=[metrics.get(metric) for metric in METRICS])\n",
    "\n",
    "\treturn model"
   ]
  },
  {
   "cell_type": "code",
   "execution_count": null,
   "metadata": {},
   "outputs": [],
   "source": [
    "m = get_model()\n",
    "\n",
    "m.fit(\n",
    "    x=training, \n",
    "    epochs=EPOCHS, \n",
    "    steps_per_epoch=int(TRAIN_SIZE / BATCH_SIZE))\n",
    "#    validation_data=validation,\n",
    "#    validation_steps=VAL_SIZE)"
   ]
  },
  {
   "cell_type": "code",
   "execution_count": null,
   "metadata": {},
   "outputs": [],
   "source": []
  }
 ],
 "metadata": {
  "colab": {
   "name": "SF1_test.ipynb",
   "provenance": []
  },
  "kernelspec": {
   "display_name": "Python [conda env:tf2] *",
   "language": "python",
   "name": "conda-env-tf2-py"
  },
  "language_info": {
   "codemirror_mode": {
    "name": "ipython",
    "version": 3
   },
   "file_extension": ".py",
   "mimetype": "text/x-python",
   "name": "python",
   "nbconvert_exporter": "python",
   "pygments_lexer": "ipython3",
   "version": "3.7.5"
  }
 },
 "nbformat": 4,
 "nbformat_minor": 1
}
