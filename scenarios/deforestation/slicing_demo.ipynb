{
 "cells": [
  {
   "cell_type": "markdown",
   "metadata": {
    "colab_type": "text",
    "id": "wZecevFL1MrY"
   },
   "source": [
    "## How to contribute a slicing function for Xingu\n",
    "\n",
    "Slicing functions define a spatial and temporal area that can be used to evaluate automatically generated models in Xingu"
   ]
  },
  {
   "cell_type": "markdown",
   "metadata": {
    "colab_type": "text",
    "id": "C9luLYMd2taB"
   },
   "source": [
    "### Login GEE API"
   ]
  },
  {
   "cell_type": "code",
   "execution_count": 19,
   "metadata": {
    "colab": {
     "base_uri": "https://localhost:8080/",
     "height": 184
    },
    "colab_type": "code",
    "id": "5gn61qx81C2a",
    "outputId": "c1393cf0-a080-4ab8-f6db-2225d2a8e100"
   },
   "outputs": [
    {
     "data": {
      "text/html": [
       "<p>To authorize access needed by Earth Engine, open the following\n",
       "        URL in a web browser and follow the instructions:</p>\n",
       "        <p><a href=https://accounts.google.com/o/oauth2/auth?client_id=517222506229-vsmmajv00ul0bs7p89v5m89qs8eb9359.apps.googleusercontent.com&scope=https%3A%2F%2Fwww.googleapis.com%2Fauth%2Fearthengine+https%3A%2F%2Fwww.googleapis.com%2Fauth%2Fdevstorage.full_control&redirect_uri=urn%3Aietf%3Awg%3Aoauth%3A2.0%3Aoob&response_type=code>https://accounts.google.com/o/oauth2/auth?client_id=517222506229-vsmmajv00ul0bs7p89v5m89qs8eb9359.apps.googleusercontent.com&scope=https%3A%2F%2Fwww.googleapis.com%2Fauth%2Fearthengine+https%3A%2F%2Fwww.googleapis.com%2Fauth%2Fdevstorage.full_control&redirect_uri=urn%3Aietf%3Awg%3Aoauth%3A2.0%3Aoob&response_type=code</a></p>\n",
       "        <p>The authorization workflow will generate a code, which you\n",
       "        should paste in the box below</p>\n",
       "        "
      ],
      "text/plain": [
       "<IPython.core.display.HTML object>"
      ]
     },
     "metadata": {},
     "output_type": "display_data"
    },
    {
     "name": "stdout",
     "output_type": "stream",
     "text": [
      "Enter verification code: 4/wQEUUvwfUv5R61zbFV1mEri2S09MqYDonv70WeYktg5pN1CkWgmKWL8\n",
      "\n",
      "Successfully saved authorization token.\n"
     ]
    }
   ],
   "source": [
    "# Import the Earth Engine API and initialize it.\n",
    "import ee\n",
    "# Trigger the authentication flow.\n",
    "ee.Authenticate()\n",
    "# Initialize the library.\n",
    "ee.Initialize()"
   ]
  },
  {
   "cell_type": "markdown",
   "metadata": {
    "colab_type": "text",
    "id": "7V8yzem22-Fk"
   },
   "source": [
    "## Specify base maps"
   ]
  },
  {
   "cell_type": "code",
   "execution_count": 20,
   "metadata": {
    "colab": {},
    "colab_type": "code",
    "id": "6b5A2G8o3Lr-"
   },
   "outputs": [],
   "source": [
    "# Use these bands for prediction.\n",
    "bands = ['B2', 'B3', 'B4', 'B5', 'B6', 'B7']\n",
    "# Use Landsat 8 surface reflectance data.\n",
    "l8sr = ee.ImageCollection('LANDSAT/LC08/C01/T1_SR')\n",
    "ndvi = ee.ImageCollection('LANDSAT/LC08/C01/T1_32DAY_NDVI')\n",
    "hansen = ee.Image(\"UMD/hansen/global_forest_change_2018_v1_6\")\n",
    "#l7sr = ee.ImageCollection('LANDSAT/LC07/C01/T1_SR')\n",
    "#sentinel2 = ee.ImageCollection('COPERNICUS/S2_SR').filter(ee.Filter.lt('CLOUDY_PIXEL_PERCENTAGE', 20))\n",
    "\n",
    "## get nighttime lights\n",
    "nightlight_col = ee.ImageCollection('NOAA/VIIRS/DNB/MONTHLY_V1/VCMCFG')\n",
    "\n",
    "def maskS2clouds(image):\n",
    "  qa = image.select('QA60');\n",
    "  # Bits 10 and 11 are clouds and cirrus, respectively.\n",
    "  cloudBitMask = 1 << 10;\n",
    "  cirrusBitMask = 1 << 11;\n",
    "\n",
    "  # Both flags should be set to zero, indicating clear conditions.\n",
    "  mask = qa.bitwiseAnd(cloudBitMask).eq(0).And(qa.bitwiseAnd(cirrusBitMask).eq(0));\n",
    "\n",
    "  return image.updateMask(mask).divide(10000);\n",
    "                                                 \n",
    "                                                          \n",
    "## Cloud masking function.\n",
    "def maskL8sr(image):\n",
    "  cloudShadowBitMask = ee.Number(2).pow(3).int()\n",
    "  cloudsBitMask = ee.Number(2).pow(5).int()\n",
    "  qa = image.select('pixel_qa')\n",
    "  mask = qa.bitwiseAnd(cloudShadowBitMask).eq(0).And(\n",
    "    qa.bitwiseAnd(cloudsBitMask).eq(0))\n",
    "  return image.updateMask(mask).select(bands).divide(10000)\n",
    "\n"
   ]
  },
  {
   "cell_type": "code",
   "execution_count": null,
   "metadata": {},
   "outputs": [],
   "source": []
  },
  {
   "cell_type": "markdown",
   "metadata": {},
   "source": [
    "## Get median composites for years 2013-2019"
   ]
  },
  {
   "cell_type": "code",
   "execution_count": 21,
   "metadata": {},
   "outputs": [
    {
     "name": "stdout",
     "output_type": "stream",
     "text": [
      "2013\n",
      "2014\n",
      "2015\n",
      "2016\n",
      "2017\n",
      "2018\n"
     ]
    }
   ],
   "source": [
    "images_per_year = dict()\n",
    "for year in range(2013, 2019):\n",
    "    print(year)\n",
    "    images_per_year[year] = {'ls8sr':  l8sr.filterDate('{}-01-01'.format(year), '{}-12-31'.format(year)).map(maskL8sr).median()}\n",
    "    images_per_year[year]['nightlight'] = nightlight_col.filterDate('{}-01-01'.format(year), '{}-12-31'.format(year)).median()\n",
    "    images_per_year[year]['ndvi'] = ndvi.filterDate('{}-01-01'.format(year), '{}-12-31'.format(year)).median()\n",
    "    lossYear = hansen.select(['lossyear'])\n",
    "    images_per_year[year]['hansen'] = lossYear.gt(year - 2000)\n"
   ]
  },
  {
   "cell_type": "markdown",
   "metadata": {
    "colab_type": "text",
    "id": "DY2qIpku7m_l"
   },
   "source": [
    "## Get all available scenario regions"
   ]
  },
  {
   "cell_type": "code",
   "execution_count": 22,
   "metadata": {
    "colab": {
     "base_uri": "https://localhost:8080/",
     "height": 119
    },
    "colab_type": "code",
    "id": "wkVbAtaVSevN",
    "outputId": "d2c25ed7-3083-4734-862c-1c5772cd2415"
   },
   "outputs": [
    {
     "name": "stdout",
     "output_type": "stream",
     "text": [
      "found 16 scenario regions\n"
     ]
    }
   ],
   "source": [
    "import os\n",
    "import geojson\n",
    "base_dir = os.getcwd()\n",
    "all_geojson_paths = [os.path.join(base_dir, x) for x in os.listdir(base_dir) if x.endswith('.geojson')]\n",
    "all_geojsons = []\n",
    "for geojson_path in all_geojson_paths:\n",
    "    with open(geojson_path) as f:\n",
    "        gj = geojson.load(f)\n",
    "        all_geojsons.append(gj)\n",
    "print('found {} scenario regions'.format(len(all_geojsons)))\n",
    "#all_geojsons = sorted(all_geojsons)\n",
    "import random\n",
    "random.seed(123)\n",
    "random.shuffle(all_geojsons)\n",
    "train_range = round(0.7 * len(all_geojsons))\n",
    "val_range = round(0.8 * len(all_geojsons))\n",
    "train_regions = all_geojsons[:train_range]\n",
    "val_regions = all_geojsons[:val_range]\n",
    "test_regions = all_geojsons[val_range:]\n"
   ]
  },
  {
   "cell_type": "code",
   "execution_count": 23,
   "metadata": {},
   "outputs": [],
   "source": [
    "#get sample train region\n",
    "#train_region = train_regions[0]"
   ]
  },
  {
   "cell_type": "code",
   "execution_count": 24,
   "metadata": {
    "colab": {
     "base_uri": "https://localhost:8080/",
     "height": 375
    },
    "colab_type": "code",
    "id": "o-Mz2Kfl7uaf",
    "outputId": "7116c3c8-373a-485f-9c08-e5ae9ced2c8a"
   },
   "outputs": [],
   "source": [
    "def get_coordinates_for_region(region):\n",
    "    region = train_region[\"coordinates\"][0]\n",
    "    region_inv = [[x[1],x[0]] for x in region]\n",
    "    x_center = sum(x[0] for x in region_inv) / len(region_inv)\n",
    "    y_center = sum(x[1] for x in region_inv) / len(region_inv)\n",
    "    edges = region_inv\n",
    "    center_coords = [x_center, y_center]\n",
    "    return edges, center_coords\n",
    "\n"
   ]
  },
  {
   "cell_type": "markdown",
   "metadata": {
    "colab_type": "text",
    "id": "E7lrS3gZ6dCm"
   },
   "source": [
    "## This is how we visualize it in colab"
   ]
  },
  {
   "cell_type": "code",
   "execution_count": 25,
   "metadata": {},
   "outputs": [],
   "source": [
    "def get_scaled_img(image, target_geometry):\n",
    "    minMax = image.reduceRegion(reducer= ee.Reducer.minMax(), geometry= target_geometry,scale= 30, maxPixels= 10e9,   # tileScale: 16\n",
    "    );\n",
    "    def scale(name):\n",
    "        name = ee.String(name);\n",
    "        #print('band name: {}'.format(name))\n",
    "        band = image.select(name);\n",
    "        \n",
    "        return band.unitScale(ee.Number(minMax.get(name.cat('_min'))), ee.Number(minMax.get(name.cat('_max'))))\n",
    "                    # eventually multiply by 100 to get range 0-100\n",
    "                    #.multiply(100); \n",
    "    scaled_bands = image.bandNames().map(scale)\n",
    "    unitScale = ee.ImageCollection.fromImages(scaled_bands)\n",
    "    unitScale_bands = unitScale.toBands().rename(image.bandNames());\n",
    "    \n",
    "#    meanDict = unitScale_bands.reduceRegion(reducer=  ee.Reducer.mean(), geometry =target_geometry, scale=30 )\n",
    "#    minMaxDict = unitScale_bands.reduceRegion(reducer=  ee.Reducer.minMax(), geometry =target_geometry, scale=30 )\n",
    "#    print(meanDict.getInfo())\n",
    "#    print(minMaxDict.getInfo())\n",
    "    \n",
    "    return unitScale_bands\n",
    "\n",
    "def maskGeometry(image, geometry):\n",
    "   mask =  ee.Image.constant(1).clip(geometry).mask()\n",
    "   return image.updateMask(mask)"
   ]
  },
  {
   "cell_type": "code",
   "execution_count": 26,
   "metadata": {},
   "outputs": [],
   "source": [
    "\n",
    "import folium\n",
    "\n",
    "def display_img(image, center_location, value_name, mask_region):\n",
    "    mapIdDict = image.getMapId({'bands': [value_name], 'min': 0.0, 'max': 1})\n",
    "    folium_map = folium.Map(location=center_location)\n",
    "    folium.TileLayer(\n",
    "        tiles=mapIdDict['tile_fetcher'].url_format,\n",
    "        attr='Map Data &copy; <a href=\"https://earthengine.google.com/\">Google Earth Engine</a>',\n",
    "        overlay=True,\n",
    "        name='median composite',\n",
    "      ).add_to(folium_map)\n",
    "    folium_map.add_child(folium.LayerControl())\n",
    "\n",
    "    line_color='red'\n",
    "    fill_color='red'\n",
    "    weight=2\n",
    "    text='Selected Region'\n",
    "    \n",
    "    folium_map.add_child(folium.vector_layers.Polygon(locations=mask_region, color=line_color, fill_color=fill_color,\n",
    "                                                  weight=weight, popup=(folium.Popup(text))))\n",
    "\n",
    "    return folium_map"
   ]
  },
  {
   "cell_type": "markdown",
   "metadata": {
    "colab_type": "text",
    "id": "sv7YibOt3H0b"
   },
   "source": [
    "### We use folium to visualize the map"
   ]
  },
  {
   "cell_type": "code",
   "execution_count": 35,
   "metadata": {
    "colab": {
     "base_uri": "https://localhost:8080/",
     "height": 1000
    },
    "colab_type": "code",
    "id": "HJ87-5r86gNl",
    "outputId": "44519284-08ff-4517-b4d2-372d8944e4a9"
   },
   "outputs": [],
   "source": [
    "def display_yeardiff(images_per_year, year, img_type, value_name, region):\n",
    "    image = images_per_year[year][img_type]\n",
    "    img_cur = maskGeometry(images_per_year[year][img_type], region)\n",
    "    img_old = maskGeometry(images_per_year[year-1][img_type], region)\n",
    "    imgs_diff = img_cur.select(value_name).subtract(img_old.select(value_name))\n",
    "    #normalized_diff\n",
    "    #imgs_normdiff = imgs_diff.divide(img_cur.select(value_name).add(img_old.select(value_name)))\n",
    "\n",
    "    #Define a kernel.\n",
    "    #kernel = ee.Kernel.circle(radius= 15);\n",
    "    #dilated = maskGeometry(imgs_normdiff.focal_max(kernel= kernel, iterations= 2), region)\n",
    "    #roi_image = maskGeometry(image, region)\n",
    "    scaled_img = get_scaled_img(imgs_diff, region)\n",
    "    edges, center_coords = get_coordinates_for_region(region)\n",
    "    \n",
    "    folium_map = display_img(scaled_img, center_location=center_coords, value_name=value_name, mask_region=edges)\n",
    "    return folium_map, scaled_img\n",
    "\n",
    "def display_year(images_per_year, year, img_type, value_name, region):\n",
    "    image = images_per_year[year][img_type]\n",
    "    img_cur = maskGeometry(images_per_year[year][img_type], region)\n",
    "    scaled_img = get_scaled_img(img_cur, region)\n",
    "    edges, center_coords = get_coordinates_for_region(region)\n",
    "    folium_map = display_img(scaled_img, center_location=center_coords, value_name=value_name, mask_region=edges)\n",
    "    return folium_map, scaled_img\n"
   ]
  },
  {
   "cell_type": "markdown",
   "metadata": {},
   "source": [
    "## Display year difference for demo  "
   ]
  },
  {
   "cell_type": "code",
   "execution_count": 37,
   "metadata": {},
   "outputs": [
    {
     "data": {
      "text/html": [
       "<div style=\"width:100%;\"><div style=\"position:relative;width:100%;height:0;padding-bottom:60%;\"><iframe src=\"data:text/html;charset=utf-8;base64,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\" style=\"position:absolute;width:100%;height:100%;left:0;top:0;border:none !important;\" allowfullscreen webkitallowfullscreen mozallowfullscreen></iframe></div></div>"
      ],
      "text/plain": [
       "<folium.folium.Map at 0x7f6ee5d94810>"
      ]
     },
     "execution_count": 37,
     "metadata": {},
     "output_type": "execute_result"
    }
   ],
   "source": [
    "year = 2016\n",
    "train_region = train_regions[0]\n",
    "#folium_map, scaled_img = display_year(images_per_year, year=year, img_type='hansen', value_name='lossyear', train_region=train_region)\n",
    "folium_map, scaled_yeardiff = display_yeardiff(images_per_year, year=year, img_type='ndvi', value_name='NDVI', region=train_region)\n",
    "folium_map"
   ]
  },
  {
   "cell_type": "markdown",
   "metadata": {},
   "source": [
    "## Collect \"year difference\" features for NDVI and nightlight"
   ]
  },
  {
   "cell_type": "code",
   "execution_count": null,
   "metadata": {
    "colab": {
     "base_uri": "https://localhost:8080/",
     "height": 1000
    },
    "colab_type": "code",
    "id": "HJ87-5r86gNl",
    "outputId": "44519284-08ff-4517-b4d2-372d8944e4a9"
   },
   "outputs": [],
   "source": [
    "#print(folium.__version__)\n",
    "scaled_features = dict()\n",
    "gt_labels = dict()\n",
    "\n",
    "datasets = dict()\n",
    "\n",
    "for set_type, regions in zip(['train', 'val', 'test'], [train_regions, val_regions, test_regions]):\n",
    "    for region in regions:\n",
    "        for year in range(2015, 2018):\n",
    "            if year not in scaled_yeardiffs:\n",
    "                scaled_yeardiffs[year] = dict()\n",
    "            for img_type, value_name in zip(['ndvi', 'nightlight'], ['NDVI', 'avg_rad']):\n",
    "                if img_type not in scaled_yeardiffs[year]:\n",
    "                    scaled_yeardiffs[year][img_type] = dict()\n",
    "\n",
    "                _, scaled_yeardiff = display_yeardiff(images_per_year, year=year, img_type=img_type, value_name=value_name, region=region)\n",
    "                _, scaled_img = display_year(images_per_year, year=year, img_type=img_type, value_name=value_name, region=region)\n",
    "                scaled_yeardiffs[year][img_type] = {'yeardiff': scaled_yeardiff, 'year': scaled_img}\n",
    "            #yeardiff\n",
    "            folium_map, scaled_img = display_year(images_per_year, year=year, img_type='hansen', value_name='lossyear', region=region)\n",
    "            gt_labels[year] = scaled_img\n",
    "            datasets[set_type] = {'features': scaled_features, 'labels': gt_labels}\n",
    "            \n",
    "#folium_map, scaled_yeardiff = display_yeardiff(images_per_year, year=2015, img_type='nightlight', value_name='avg_rad', train_region=train_region)\n",
    "#folium_map\n"
   ]
  },
  {
   "cell_type": "markdown",
   "metadata": {
    "colab_type": "text",
    "id": "Xebx9Bm88hVo"
   },
   "source": []
  },
  {
   "cell_type": "code",
   "execution_count": null,
   "metadata": {},
   "outputs": [],
   "source": []
  },
  {
   "cell_type": "code",
   "execution_count": null,
   "metadata": {},
   "outputs": [],
   "source": []
  }
 ],
 "metadata": {
  "colab": {
   "name": "SF1_test.ipynb",
   "provenance": []
  },
  "kernelspec": {
   "display_name": "Python [conda env:tf2] *",
   "language": "python",
   "name": "conda-env-tf2-py"
  },
  "language_info": {
   "codemirror_mode": {
    "name": "ipython",
    "version": 3
   },
   "file_extension": ".py",
   "mimetype": "text/x-python",
   "name": "python",
   "nbconvert_exporter": "python",
   "pygments_lexer": "ipython3",
   "version": "3.7.5"
  }
 },
 "nbformat": 4,
 "nbformat_minor": 1
}
