{
 "cells": [
  {
   "cell_type": "markdown",
   "metadata": {},
   "source": [
    "## Tensorboard Projector Vizualisation"
   ]
  },
  {
   "cell_type": "markdown",
   "metadata": {},
   "source": [
    "Tutorial: https://medium.com/looka-engineering/how-to-visualize-feature-vectors-with-sprites-and-tensorflows-tensorboard-3950ca1fb2c7"
   ]
  },
  {
   "cell_type": "code",
   "execution_count": 46,
   "metadata": {},
   "outputs": [],
   "source": [
    "import os\n",
    "import glob\n",
    "\n",
    "import cv2\n",
    "import numpy as np\n",
    "import tensorflow as tf\n",
    "import pandas as pd\n",
    "from tqdm import tqdm\n",
    "from tensorflow.contrib.tensorboard.plugins import projector"
   ]
  },
  {
   "cell_type": "code",
   "execution_count": 8,
   "metadata": {
    "scrolled": true
   },
   "outputs": [
    {
     "data": {
      "text/html": [
       "<style>.container { width:100% !important; }</style>"
      ],
      "text/plain": [
       "<IPython.core.display.HTML object>"
      ]
     },
     "metadata": {},
     "output_type": "display_data"
    }
   ],
   "source": [
    "from IPython.core.display import display, HTML\n",
    "display(HTML(\"<style>.container { width:100% !important; }</style>\"))"
   ]
  },
  {
   "cell_type": "code",
   "execution_count": 96,
   "metadata": {
    "scrolled": true
   },
   "outputs": [],
   "source": [
    "LOG_DIR = \"../tensorboard-logs\"\n",
    "IMAGES_DIR = \"../data/train-jpg\"\n",
    "IMAGE_SIZE = (64, 64)\n",
    "SPRITES_FILE = \"sprites.png\"\n",
    "SPRITES_PATH = os.path.join(LOG_DIR, SPRITES_FILE)\n",
    "\n",
    "FEATURES_KAGGLE = os.path.abspath(\"../data/features/Kaggle\")\n",
    "FEATURE_VECTORS_BIGEARTHNET = os.path.join(FEATURES_KAGGLE, 'features_bigearthnet_Kaggle.npy')\n",
    "\n",
    "PLANET_KAGGLE_ROOT = os.path.abspath(\"../data/\")\n",
    "PLANET_KAGGLE_LABEL_CSV = os.path.join(PLANET_KAGGLE_ROOT, 'train_v2.csv')\n",
    "\n",
    "METADATA_FILE = \"metadata.tsv\"\n",
    "METADATA_PATH = os.path.join(LOG_DIR, METADATA_FILE)\n",
    "CHECKPOINT_FILE = os.path.join(LOG_DIR, \"features.ckpt\")\n",
    "\n",
    "# Max sprite size is 8192 x 8192\n",
    "#MAX_NUMBER_SAMPLES = 8191\n",
    "MAX_NUMBER_SAMPLES = 200\n",
    "FIRST_SAMPLE_ID = 0"
   ]
  },
  {
   "cell_type": "code",
   "execution_count": 97,
   "metadata": {},
   "outputs": [],
   "source": [
    "def create_sprite(data):\n",
    "    \"\"\"\n",
    "    Tile images into sprite image. \n",
    "    Add any necessary padding\n",
    "    \"\"\"\n",
    "    \n",
    "    # For B&W or greyscale images\n",
    "    if len(data.shape) == 3:\n",
    "        data = np.tile(data[...,np.newaxis], (1,1,1,3))\n",
    "\n",
    "    n = int(np.ceil(np.sqrt(data.shape[0])))\n",
    "    padding = ((0, n ** 2 - data.shape[0]), (0, 0), (0, 0), (0, 0))\n",
    "    data = np.pad(data, padding, mode='constant',\n",
    "            constant_values=0)\n",
    "    \n",
    "    # Tile images into sprite\n",
    "    data = data.reshape((n, n) + data.shape[1:]).transpose((0, 2, 1, 3, 4))\n",
    "    # print(data.shape) => (n, image_height, n, image_width, 3)\n",
    "    \n",
    "    data = data.reshape((n * data.shape[1], n * data.shape[3]) + data.shape[4:])\n",
    "    # print(data.shape) => (n * image_height, n * image_width, 3) \n",
    "    return data"
   ]
  },
  {
   "cell_type": "code",
   "execution_count": 98,
   "metadata": {},
   "outputs": [],
   "source": [
    "# Preprocess labels and file names\n",
    "\n",
    "labels_df = pd.read_csv(PLANET_KAGGLE_LABEL_CSV)\n",
    "\n",
    "# Build list with unique labels\n",
    "label_list = []\n",
    "for tag_str in labels_df.tags.values:\n",
    "    labels = tag_str.split(' ')\n",
    "    for label in labels:\n",
    "        if label not in label_list:\n",
    "            label_list.append(label)\n",
    "            \n",
    "# Map labels \n",
    "label_map = {l: i for i, l in enumerate(label_list)}"
   ]
  },
  {
   "cell_type": "code",
   "execution_count": 105,
   "metadata": {},
   "outputs": [
    {
     "name": "stderr",
     "output_type": "stream",
     "text": [
      "100%|██████████| 200/200 [00:00<00:00, 558.05it/s]\n"
     ]
    },
    {
     "data": {
      "text/plain": [
       "True"
      ]
     },
     "execution_count": 105,
     "metadata": {},
     "output_type": "execute_result"
    }
   ],
   "source": [
    "# Create sprite image and label vectors\n",
    "\n",
    "img_data = []\n",
    "labels = []\n",
    "for f, tags in tqdm(labels_df.loc[FIRST_SAMPLE_ID:FIRST_SAMPLE_ID+MAX_NUMBER_SAMPLES-1].values, miniters=1000):\n",
    "    input_img = cv2.imread('../data/train-jpg/{}.jpg'.format(f))\n",
    "    img_data.append(cv2.resize(input_img, IMAGE_SIZE))\n",
    "    targets = np.zeros(17)\n",
    "    for t in tags.split(' '):\n",
    "        targets[label_map[t]] = 1\n",
    "    labels.append(targets)\n",
    "img_data = np.array(img_data)\n",
    "labels = np.array(labels)\n",
    "\n",
    "sprite = create_sprite(img_data)\n",
    "cv2.imwrite(SPRITES_PATH, sprite)"
   ]
  },
  {
   "cell_type": "code",
   "execution_count": 100,
   "metadata": {},
   "outputs": [],
   "source": [
    "# Create metadata, configure for tensorboard embedding\n",
    "\n",
    "# Create metadata\n",
    "# Can include class data in here if interested / have available\n",
    "with open(METADATA_PATH, 'w+') as wrf:\n",
    "    wrf.write(\"image_id\\t\" + \"\\t\".join([str(tag) for tag in label_list]) + \"\\n\")\n",
    "    for i,a in enumerate(labels[FIRST_SAMPLE_ID:FIRST_SAMPLE_ID+MAX_NUMBER_SAMPLES]):\n",
    "        wrf.write(str(i)+\"\\t\"+\"\\t\".join([str(tag) for tag in labels[i]])+\"\\n\")\n",
    "\n",
    "feature_vectors = np.load(FEATURE_VECTORS_BIGEARTHNET)\n",
    "\n",
    "features = tf.Variable(feature_vectors[FIRST_SAMPLE_ID:FIRST_SAMPLE_ID+MAX_NUMBER_SAMPLES], name='features')\n",
    "\n",
    "# Write summaries for tensorboard\n",
    "with tf.Session() as sess:\n",
    "    saver = tf.train.Saver([features])\n",
    "\n",
    "    sess.run(features.initializer)\n",
    "    saver.save(sess, CHECKPOINT_FILE)\n",
    "\n",
    "    config = projector.ProjectorConfig()\n",
    "    embedding = config.embeddings.add()\n",
    "    embedding.tensor_name = features.name\n",
    "    embedding.metadata_path = METADATA_FILE\n",
    "\n",
    "    # This adds the sprite images\n",
    "    embedding.sprite.image_path = SPRITES_FILE\n",
    "    embedding.sprite.single_image_dim.extend(IMAGE_SIZE)\n",
    "    projector.visualize_embeddings(tf.summary.FileWriter(LOG_DIR), config)"
   ]
  },
  {
   "cell_type": "code",
   "execution_count": 13,
   "metadata": {},
   "outputs": [],
   "source": [
    "%load_ext tensorboard\n",
    "#%reload_ext tensorboard"
   ]
  },
  {
   "cell_type": "code",
   "execution_count": 102,
   "metadata": {},
   "outputs": [],
   "source": [
    "#!kill 11544 #when updating data - kill pid of the old projector (error message or the following cell)"
   ]
  },
  {
   "cell_type": "code",
   "execution_count": 103,
   "metadata": {
    "scrolled": true
   },
   "outputs": [
    {
     "data": {
      "text/html": [
       "\n",
       "        <iframe\n",
       "            width=\"100%\"\n",
       "            height=\"800\"\n",
       "            src=\"http://localhost:6007\"\n",
       "            frameborder=\"0\"\n",
       "            allowfullscreen\n",
       "        ></iframe>\n",
       "        "
      ],
      "text/plain": [
       "<IPython.lib.display.IFrame at 0x145ef8c10>"
      ]
     },
     "metadata": {},
     "output_type": "display_data"
    }
   ],
   "source": [
    "%tensorboard --logdir ../tensorboard-logs"
   ]
  },
  {
   "cell_type": "code",
   "execution_count": null,
   "metadata": {
    "scrolled": true
   },
   "outputs": [],
   "source": []
  },
  {
   "cell_type": "code",
   "execution_count": null,
   "metadata": {},
   "outputs": [],
   "source": []
  }
 ],
 "metadata": {
  "kernelspec": {
   "display_name": "Python 3",
   "language": "python",
   "name": "python3"
  },
  "language_info": {
   "codemirror_mode": {
    "name": "ipython",
    "version": 3
   },
   "file_extension": ".py",
   "mimetype": "text/x-python",
   "name": "python",
   "nbconvert_exporter": "python",
   "pygments_lexer": "ipython3",
   "version": "3.7.6"
  }
 },
 "nbformat": 4,
 "nbformat_minor": 4
}
